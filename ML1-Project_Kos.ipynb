{
 "cells": [
  {
   "cell_type": "code",
   "execution_count": 141,
   "id": "49f8cbb6-690e-4ffe-b477-d245a930dea2",
   "metadata": {
    "tags": [
     "hide_code"
    ]
   },
   "outputs": [],
   "source": [
    "\n",
    "import pandas as pd\n",
    "import numpy as np\n",
    "import matplotlib.pyplot as plt\n",
    "import seaborn as sns\n",
    "from sklearn.preprocessing import StandardScaler, LabelEncoder\n",
    "from sklearn.model_selection import train_test_split, cross_val_score\n",
    "from sklearn.linear_model import LogisticRegression\n",
    "from sklearn.svm import SVC\n",
    "from sklearn.metrics import (\n",
    "    classification_report, \n",
    "    confusion_matrix, \n",
    "    accuracy_score, \n",
    "    r2_score,\n",
    "    roc_auc_score, \n",
    "    roc_curve, \n",
    "    auc,\n",
    "    RocCurveDisplay\n",
    ")\n",
    "from sklearn.decomposition import PCA\n",
    "from sklearn.metrics import classification_report, confusion_matrix, ConfusionMatrixDisplay\n",
    "import statsmodels.api as sm\n",
    "import statsmodels.formula.api as smf\n",
    "import warnings\n",
    "warnings.filterwarnings('ignore')\n",
    "\n"
   ]
  },
  {
   "cell_type": "code",
   "execution_count": 23,
   "id": "9e8e0920-6dfb-48d8-82c4-62dac5590b33",
   "metadata": {
    "tags": [
     "hide_cell",
     "hide_output"
    ]
   },
   "outputs": [
    {
     "name": "stdout",
     "output_type": "stream",
     "text": [
      "   Unnamed: 0  Country  Year hog_ideology leader_ideology match_hog_leader  \\\n",
      "0           1  Albania  1990      leftist         leftist              yes   \n",
      "1           2  Albania  1996     rightist        rightist               no   \n",
      "2           3  Albania  1997      leftist         leftist              yes   \n",
      "3           4  Albania  1998      leftist         leftist              yes   \n",
      "4           5  Albania  1999      leftist         leftist              yes   \n",
      "\n",
      "  democracy                           region  IMF_based_exchange_rate  \\\n",
      "0        no  Eastern Europe and Central Asia                 7.745833   \n",
      "1        no  Eastern Europe and Central Asia               104.498917   \n",
      "2        no  Eastern Europe and Central Asia               148.932917   \n",
      "3        no  Eastern Europe and Central Asia               150.633333   \n",
      "4        no  Eastern Europe and Central Asia               137.690583   \n",
      "\n",
      "   Population  ... Gross_capital_formation  Imports_of_goods_and_services  \\\n",
      "0   3295066.0  ...             543166947.0                   4.828841e+08   \n",
      "1   3271331.0  ...             450950921.0                   1.158532e+09   \n",
      "2   3253719.0  ...             379550276.0                   8.673393e+08   \n",
      "3   3232175.0  ...             559126614.0                   1.026883e+09   \n",
      "4   3208260.0  ...             782952374.0                   1.204031e+09   \n",
      "\n",
      "   mining_manifacturing_isic  transport_storage_communication_isic  \\\n",
      "0                863176680.0                            29857978.0   \n",
      "1                328096576.0                           114349551.0   \n",
      "2                207636030.0                           102111606.0   \n",
      "3                209136519.0                           143265871.0   \n",
      "4                256181697.0                           198712208.0   \n",
      "\n",
      "   wholesale_trade_restaurant_hotel_isic  gross_national_income_GNI  \\\n",
      "0                            139120369.0               2.143811e+09   \n",
      "1                            625299293.0               3.271327e+09   \n",
      "2                            439101205.0               2.274234e+09   \n",
      "3                            497629404.0               2.631658e+09   \n",
      "4                            682986473.0               3.297165e+09   \n",
      "\n",
      "            GDP  military_expenditure  Urban_population  Rural_population  \n",
      "0  2.145751e+09              5.888301         1197222.0         2089320.0  \n",
      "1  3.199642e+09              1.379030         1250518.0         1917515.0  \n",
      "2  2.224654e+09              1.283081         1260414.0         1887867.0  \n",
      "3  2.554869e+09              1.238243         1270214.0         1858316.0  \n",
      "4  3.221670e+09              1.249210         1279853.0         1828925.0  \n",
      "\n",
      "[5 rows x 26 columns]\n"
     ]
    },
    {
     "data": {
      "text/html": [
       "<div>\n",
       "<style scoped>\n",
       "    .dataframe tbody tr th:only-of-type {\n",
       "        vertical-align: middle;\n",
       "    }\n",
       "\n",
       "    .dataframe tbody tr th {\n",
       "        vertical-align: top;\n",
       "    }\n",
       "\n",
       "    .dataframe thead th {\n",
       "        text-align: right;\n",
       "    }\n",
       "</style>\n",
       "<table border=\"1\" class=\"dataframe\">\n",
       "  <thead>\n",
       "    <tr style=\"text-align: right;\">\n",
       "      <th></th>\n",
       "      <th>Unnamed: 0</th>\n",
       "      <th>Country</th>\n",
       "      <th>Year</th>\n",
       "      <th>hog_ideology</th>\n",
       "      <th>leader_ideology</th>\n",
       "      <th>match_hog_leader</th>\n",
       "      <th>democracy</th>\n",
       "      <th>region</th>\n",
       "      <th>IMF_based_exchange_rate</th>\n",
       "      <th>Population</th>\n",
       "      <th>...</th>\n",
       "      <th>Gross_capital_formation</th>\n",
       "      <th>Imports_of_goods_and_services</th>\n",
       "      <th>mining_manifacturing_isic</th>\n",
       "      <th>transport_storage_communication_isic</th>\n",
       "      <th>wholesale_trade_restaurant_hotel_isic</th>\n",
       "      <th>gross_national_income_GNI</th>\n",
       "      <th>GDP</th>\n",
       "      <th>military_expenditure</th>\n",
       "      <th>Urban_population</th>\n",
       "      <th>Rural_population</th>\n",
       "    </tr>\n",
       "  </thead>\n",
       "  <tbody>\n",
       "    <tr>\n",
       "      <th>0</th>\n",
       "      <td>1</td>\n",
       "      <td>Albania</td>\n",
       "      <td>1990</td>\n",
       "      <td>leftist</td>\n",
       "      <td>leftist</td>\n",
       "      <td>yes</td>\n",
       "      <td>no</td>\n",
       "      <td>Eastern Europe and Central Asia</td>\n",
       "      <td>7.745833</td>\n",
       "      <td>3295066.0</td>\n",
       "      <td>...</td>\n",
       "      <td>5.431669e+08</td>\n",
       "      <td>4.828841e+08</td>\n",
       "      <td>8.631767e+08</td>\n",
       "      <td>2.985798e+07</td>\n",
       "      <td>1.391204e+08</td>\n",
       "      <td>2.143811e+09</td>\n",
       "      <td>2.145751e+09</td>\n",
       "      <td>5.888301</td>\n",
       "      <td>1197222.0</td>\n",
       "      <td>2089320.0</td>\n",
       "    </tr>\n",
       "    <tr>\n",
       "      <th>1</th>\n",
       "      <td>2</td>\n",
       "      <td>Albania</td>\n",
       "      <td>1996</td>\n",
       "      <td>rightist</td>\n",
       "      <td>rightist</td>\n",
       "      <td>no</td>\n",
       "      <td>no</td>\n",
       "      <td>Eastern Europe and Central Asia</td>\n",
       "      <td>104.498917</td>\n",
       "      <td>3271331.0</td>\n",
       "      <td>...</td>\n",
       "      <td>4.509509e+08</td>\n",
       "      <td>1.158532e+09</td>\n",
       "      <td>3.280966e+08</td>\n",
       "      <td>1.143496e+08</td>\n",
       "      <td>6.252993e+08</td>\n",
       "      <td>3.271327e+09</td>\n",
       "      <td>3.199642e+09</td>\n",
       "      <td>1.379030</td>\n",
       "      <td>1250518.0</td>\n",
       "      <td>1917515.0</td>\n",
       "    </tr>\n",
       "    <tr>\n",
       "      <th>2</th>\n",
       "      <td>3</td>\n",
       "      <td>Albania</td>\n",
       "      <td>1997</td>\n",
       "      <td>leftist</td>\n",
       "      <td>leftist</td>\n",
       "      <td>yes</td>\n",
       "      <td>no</td>\n",
       "      <td>Eastern Europe and Central Asia</td>\n",
       "      <td>148.932917</td>\n",
       "      <td>3253719.0</td>\n",
       "      <td>...</td>\n",
       "      <td>3.795503e+08</td>\n",
       "      <td>8.673393e+08</td>\n",
       "      <td>2.076360e+08</td>\n",
       "      <td>1.021116e+08</td>\n",
       "      <td>4.391012e+08</td>\n",
       "      <td>2.274234e+09</td>\n",
       "      <td>2.224654e+09</td>\n",
       "      <td>1.283081</td>\n",
       "      <td>1260414.0</td>\n",
       "      <td>1887867.0</td>\n",
       "    </tr>\n",
       "    <tr>\n",
       "      <th>3</th>\n",
       "      <td>4</td>\n",
       "      <td>Albania</td>\n",
       "      <td>1998</td>\n",
       "      <td>leftist</td>\n",
       "      <td>leftist</td>\n",
       "      <td>yes</td>\n",
       "      <td>no</td>\n",
       "      <td>Eastern Europe and Central Asia</td>\n",
       "      <td>150.633333</td>\n",
       "      <td>3232175.0</td>\n",
       "      <td>...</td>\n",
       "      <td>5.591266e+08</td>\n",
       "      <td>1.026883e+09</td>\n",
       "      <td>2.091365e+08</td>\n",
       "      <td>1.432659e+08</td>\n",
       "      <td>4.976294e+08</td>\n",
       "      <td>2.631658e+09</td>\n",
       "      <td>2.554869e+09</td>\n",
       "      <td>1.238243</td>\n",
       "      <td>1270214.0</td>\n",
       "      <td>1858316.0</td>\n",
       "    </tr>\n",
       "    <tr>\n",
       "      <th>4</th>\n",
       "      <td>5</td>\n",
       "      <td>Albania</td>\n",
       "      <td>1999</td>\n",
       "      <td>leftist</td>\n",
       "      <td>leftist</td>\n",
       "      <td>yes</td>\n",
       "      <td>no</td>\n",
       "      <td>Eastern Europe and Central Asia</td>\n",
       "      <td>137.690583</td>\n",
       "      <td>3208260.0</td>\n",
       "      <td>...</td>\n",
       "      <td>7.829524e+08</td>\n",
       "      <td>1.204031e+09</td>\n",
       "      <td>2.561817e+08</td>\n",
       "      <td>1.987122e+08</td>\n",
       "      <td>6.829865e+08</td>\n",
       "      <td>3.297165e+09</td>\n",
       "      <td>3.221670e+09</td>\n",
       "      <td>1.249210</td>\n",
       "      <td>1279853.0</td>\n",
       "      <td>1828925.0</td>\n",
       "    </tr>\n",
       "    <tr>\n",
       "      <th>...</th>\n",
       "      <td>...</td>\n",
       "      <td>...</td>\n",
       "      <td>...</td>\n",
       "      <td>...</td>\n",
       "      <td>...</td>\n",
       "      <td>...</td>\n",
       "      <td>...</td>\n",
       "      <td>...</td>\n",
       "      <td>...</td>\n",
       "      <td>...</td>\n",
       "      <td>...</td>\n",
       "      <td>...</td>\n",
       "      <td>...</td>\n",
       "      <td>...</td>\n",
       "      <td>...</td>\n",
       "      <td>...</td>\n",
       "      <td>...</td>\n",
       "      <td>...</td>\n",
       "      <td>...</td>\n",
       "      <td>...</td>\n",
       "      <td>...</td>\n",
       "    </tr>\n",
       "    <tr>\n",
       "      <th>2949</th>\n",
       "      <td>2950</td>\n",
       "      <td>Zimbabwe</td>\n",
       "      <td>2016</td>\n",
       "      <td>leftist</td>\n",
       "      <td>leftist</td>\n",
       "      <td>yes</td>\n",
       "      <td>no</td>\n",
       "      <td>Sub-Saharan Africa</td>\n",
       "      <td>1.000000</td>\n",
       "      <td>14452704.0</td>\n",
       "      <td>...</td>\n",
       "      <td>2.026381e+09</td>\n",
       "      <td>6.426700e+09</td>\n",
       "      <td>4.102626e+09</td>\n",
       "      <td>2.091819e+09</td>\n",
       "      <td>4.128620e+09</td>\n",
       "      <td>1.877295e+10</td>\n",
       "      <td>2.054868e+10</td>\n",
       "      <td>1.741985</td>\n",
       "      <td>4715311.0</td>\n",
       "      <td>9884983.0</td>\n",
       "    </tr>\n",
       "    <tr>\n",
       "      <th>2950</th>\n",
       "      <td>2951</td>\n",
       "      <td>Zimbabwe</td>\n",
       "      <td>2017</td>\n",
       "      <td>leftist</td>\n",
       "      <td>leftist</td>\n",
       "      <td>yes</td>\n",
       "      <td>no</td>\n",
       "      <td>Sub-Saharan Africa</td>\n",
       "      <td>1.000000</td>\n",
       "      <td>14751101.0</td>\n",
       "      <td>...</td>\n",
       "      <td>3.240458e+09</td>\n",
       "      <td>6.693807e+09</td>\n",
       "      <td>6.637330e+09</td>\n",
       "      <td>2.250543e+09</td>\n",
       "      <td>4.421973e+09</td>\n",
       "      <td>2.118140e+10</td>\n",
       "      <td>2.204065e+10</td>\n",
       "      <td>1.592340</td>\n",
       "      <td>4775100.0</td>\n",
       "      <td>10037382.0</td>\n",
       "    </tr>\n",
       "    <tr>\n",
       "      <th>2951</th>\n",
       "      <td>2952</td>\n",
       "      <td>Zimbabwe</td>\n",
       "      <td>2018</td>\n",
       "      <td>leftist</td>\n",
       "      <td>leftist</td>\n",
       "      <td>yes</td>\n",
       "      <td>no</td>\n",
       "      <td>Sub-Saharan Africa</td>\n",
       "      <td>1.000000</td>\n",
       "      <td>15052184.0</td>\n",
       "      <td>...</td>\n",
       "      <td>3.345405e+09</td>\n",
       "      <td>6.712015e+09</td>\n",
       "      <td>6.870555e+09</td>\n",
       "      <td>2.492558e+09</td>\n",
       "      <td>4.772648e+09</td>\n",
       "      <td>2.315156e+10</td>\n",
       "      <td>2.364527e+10</td>\n",
       "      <td>1.137810</td>\n",
       "      <td>4842447.0</td>\n",
       "      <td>10192005.0</td>\n",
       "    </tr>\n",
       "    <tr>\n",
       "      <th>2952</th>\n",
       "      <td>2953</td>\n",
       "      <td>Zimbabwe</td>\n",
       "      <td>2019</td>\n",
       "      <td>leftist</td>\n",
       "      <td>leftist</td>\n",
       "      <td>yes</td>\n",
       "      <td>no</td>\n",
       "      <td>Sub-Saharan Africa</td>\n",
       "      <td>1.000000</td>\n",
       "      <td>15354608.0</td>\n",
       "      <td>...</td>\n",
       "      <td>3.117897e+09</td>\n",
       "      <td>5.767050e+09</td>\n",
       "      <td>6.623454e+09</td>\n",
       "      <td>1.680270e+09</td>\n",
       "      <td>5.008252e+09</td>\n",
       "      <td>2.223810e+10</td>\n",
       "      <td>2.259452e+10</td>\n",
       "      <td>0.729567</td>\n",
       "      <td>4918908.0</td>\n",
       "      <td>10352460.0</td>\n",
       "    </tr>\n",
       "    <tr>\n",
       "      <th>2953</th>\n",
       "      <td>2954</td>\n",
       "      <td>Zimbabwe</td>\n",
       "      <td>2020</td>\n",
       "      <td>leftist</td>\n",
       "      <td>leftist</td>\n",
       "      <td>yes</td>\n",
       "      <td>no</td>\n",
       "      <td>Sub-Saharan Africa</td>\n",
       "      <td>1.000000</td>\n",
       "      <td>15669666.0</td>\n",
       "      <td>...</td>\n",
       "      <td>2.848065e+09</td>\n",
       "      <td>6.225050e+09</td>\n",
       "      <td>6.616034e+09</td>\n",
       "      <td>1.667603e+09</td>\n",
       "      <td>4.892330e+09</td>\n",
       "      <td>2.118320e+10</td>\n",
       "      <td>2.166475e+10</td>\n",
       "      <td>0.997931</td>\n",
       "      <td>5006179.0</td>\n",
       "      <td>10520709.0</td>\n",
       "    </tr>\n",
       "  </tbody>\n",
       "</table>\n",
       "<p>2839 rows × 26 columns</p>\n",
       "</div>"
      ],
      "text/plain": [
       "      Unnamed: 0   Country  Year hog_ideology leader_ideology  \\\n",
       "0              1   Albania  1990      leftist         leftist   \n",
       "1              2   Albania  1996     rightist        rightist   \n",
       "2              3   Albania  1997      leftist         leftist   \n",
       "3              4   Albania  1998      leftist         leftist   \n",
       "4              5   Albania  1999      leftist         leftist   \n",
       "...          ...       ...   ...          ...             ...   \n",
       "2949        2950  Zimbabwe  2016      leftist         leftist   \n",
       "2950        2951  Zimbabwe  2017      leftist         leftist   \n",
       "2951        2952  Zimbabwe  2018      leftist         leftist   \n",
       "2952        2953  Zimbabwe  2019      leftist         leftist   \n",
       "2953        2954  Zimbabwe  2020      leftist         leftist   \n",
       "\n",
       "     match_hog_leader democracy                           region  \\\n",
       "0                 yes        no  Eastern Europe and Central Asia   \n",
       "1                  no        no  Eastern Europe and Central Asia   \n",
       "2                 yes        no  Eastern Europe and Central Asia   \n",
       "3                 yes        no  Eastern Europe and Central Asia   \n",
       "4                 yes        no  Eastern Europe and Central Asia   \n",
       "...               ...       ...                              ...   \n",
       "2949              yes        no               Sub-Saharan Africa   \n",
       "2950              yes        no               Sub-Saharan Africa   \n",
       "2951              yes        no               Sub-Saharan Africa   \n",
       "2952              yes        no               Sub-Saharan Africa   \n",
       "2953              yes        no               Sub-Saharan Africa   \n",
       "\n",
       "      IMF_based_exchange_rate  Population  ... Gross_capital_formation  \\\n",
       "0                    7.745833   3295066.0  ...            5.431669e+08   \n",
       "1                  104.498917   3271331.0  ...            4.509509e+08   \n",
       "2                  148.932917   3253719.0  ...            3.795503e+08   \n",
       "3                  150.633333   3232175.0  ...            5.591266e+08   \n",
       "4                  137.690583   3208260.0  ...            7.829524e+08   \n",
       "...                       ...         ...  ...                     ...   \n",
       "2949                 1.000000  14452704.0  ...            2.026381e+09   \n",
       "2950                 1.000000  14751101.0  ...            3.240458e+09   \n",
       "2951                 1.000000  15052184.0  ...            3.345405e+09   \n",
       "2952                 1.000000  15354608.0  ...            3.117897e+09   \n",
       "2953                 1.000000  15669666.0  ...            2.848065e+09   \n",
       "\n",
       "      Imports_of_goods_and_services  mining_manifacturing_isic  \\\n",
       "0                      4.828841e+08               8.631767e+08   \n",
       "1                      1.158532e+09               3.280966e+08   \n",
       "2                      8.673393e+08               2.076360e+08   \n",
       "3                      1.026883e+09               2.091365e+08   \n",
       "4                      1.204031e+09               2.561817e+08   \n",
       "...                             ...                        ...   \n",
       "2949                   6.426700e+09               4.102626e+09   \n",
       "2950                   6.693807e+09               6.637330e+09   \n",
       "2951                   6.712015e+09               6.870555e+09   \n",
       "2952                   5.767050e+09               6.623454e+09   \n",
       "2953                   6.225050e+09               6.616034e+09   \n",
       "\n",
       "      transport_storage_communication_isic  \\\n",
       "0                             2.985798e+07   \n",
       "1                             1.143496e+08   \n",
       "2                             1.021116e+08   \n",
       "3                             1.432659e+08   \n",
       "4                             1.987122e+08   \n",
       "...                                    ...   \n",
       "2949                          2.091819e+09   \n",
       "2950                          2.250543e+09   \n",
       "2951                          2.492558e+09   \n",
       "2952                          1.680270e+09   \n",
       "2953                          1.667603e+09   \n",
       "\n",
       "      wholesale_trade_restaurant_hotel_isic  gross_national_income_GNI  \\\n",
       "0                              1.391204e+08               2.143811e+09   \n",
       "1                              6.252993e+08               3.271327e+09   \n",
       "2                              4.391012e+08               2.274234e+09   \n",
       "3                              4.976294e+08               2.631658e+09   \n",
       "4                              6.829865e+08               3.297165e+09   \n",
       "...                                     ...                        ...   \n",
       "2949                           4.128620e+09               1.877295e+10   \n",
       "2950                           4.421973e+09               2.118140e+10   \n",
       "2951                           4.772648e+09               2.315156e+10   \n",
       "2952                           5.008252e+09               2.223810e+10   \n",
       "2953                           4.892330e+09               2.118320e+10   \n",
       "\n",
       "               GDP  military_expenditure  Urban_population  Rural_population  \n",
       "0     2.145751e+09              5.888301         1197222.0         2089320.0  \n",
       "1     3.199642e+09              1.379030         1250518.0         1917515.0  \n",
       "2     2.224654e+09              1.283081         1260414.0         1887867.0  \n",
       "3     2.554869e+09              1.238243         1270214.0         1858316.0  \n",
       "4     3.221670e+09              1.249210         1279853.0         1828925.0  \n",
       "...            ...                   ...               ...               ...  \n",
       "2949  2.054868e+10              1.741985         4715311.0         9884983.0  \n",
       "2950  2.204065e+10              1.592340         4775100.0        10037382.0  \n",
       "2951  2.364527e+10              1.137810         4842447.0        10192005.0  \n",
       "2952  2.259452e+10              0.729567         4918908.0        10352460.0  \n",
       "2953  2.166475e+10              0.997931         5006179.0        10520709.0  \n",
       "\n",
       "[2839 rows x 26 columns]"
      ]
     },
     "execution_count": 23,
     "metadata": {},
     "output_type": "execute_result"
    }
   ],
   "source": [
    "\n",
    "data = pd.read_csv(\"new_data_with_count.csv\")\n",
    "data.dropna()\n",
    "data.rename(columns={'Gross.National.Income.GNI..in.USD': 'gross_national_income_GNI', 'Military.expenditure....of.GDP.': 'military_expenditure','Gross.Domestic.Product..GDP.': 'GDP'}, inplace=True)\n",
    "valid_ideologies = [\"leftist\", \"rightist\", \"centrist\"]\n",
    "\n",
    "data= data[data[\"leader_ideology\"].isin(valid_ideologies)]\n",
    "data= data[data[\"hog_ideology\"].isin(valid_ideologies)]\n",
    "# Ensure democracy is binary (convert 'yes'/'no' to 1/0 if needed)\n",
    "data.columns = data.columns.str.replace('.', '_', regex=False)\n",
    "\n",
    "\n",
    "print(data.head())\n",
    "data.dropna()\n"
   ]
  },
  {
   "cell_type": "markdown",
   "id": "c0d52812-7c30-4186-a048-dcd6eacc981b",
   "metadata": {},
   "source": [
    "We see that min year is 1990 and max is 2020 so this confirms our filter. Mean military expenditure is aroung 2 percent of GDP, In the dataset urban and rural population counts seem to be balanced. Mean GDP is 4753213e+11. Compared to other sectors, wholesale seems to be the one with the highest USD output. SD is high in construction outputs.\n",
    "\n",
    "Visualizing correlations helps us see how variables relate:"
   ]
  },
  {
   "cell_type": "code",
   "execution_count": 21,
   "id": "cace3dfe",
   "metadata": {},
   "outputs": [
    {
     "data": {
      "text/plain": [
       "Index(['Unnamed: 0', 'Country', 'Year', 'hog_ideology', 'leader_ideology',\n",
       "       'match_hog_leader', 'democracy', 'region', 'IMF_based_exchange_rate',\n",
       "       'Population', 'Currency', 'Per_capita_GNI',\n",
       "       'agriculture_and_hunting_fishing_isic', 'Changes_in_inventories',\n",
       "       'construction_isic', 'Exports_of_goods_and_services',\n",
       "       'Gross_capital_formation', 'Imports_of_goods_and_services',\n",
       "       'mining_manifacturing_isic', 'transport_storage_communication_isic',\n",
       "       'wholesale_trade_restaurant_hotel_isic', 'gross_national_income_GNI',\n",
       "       'GDP', 'military_expenditure', 'Urban_population', 'Rural_population'],\n",
       "      dtype='object')"
      ]
     },
     "execution_count": 21,
     "metadata": {},
     "output_type": "execute_result"
    }
   ],
   "source": [
    "df_log.columns"
   ]
  },
  {
   "cell_type": "code",
   "execution_count": 26,
   "id": "eb46dbbb-930c-40cc-b0ea-77d7c77faa70",
   "metadata": {},
   "outputs": [],
   "source": [
    "features = ['IMF_based_exchange_rate', 'Per_capita_GNI', 'agriculture_and_hunting_fishing_isic', 'Changes_in_inventories', 'construction_isic', 'Exports_of_goods_and_services', 'Gross_capital_formation', 'Imports_of_goods_and_services', 'mining_manifacturing_isic', 'transport_storage_communication_isic', 'wholesale_trade_restaurant_hotel_isic', 'gross_national_income_GNI', 'GDP', 'military_expenditure', 'Urban_population', 'Rural_population']\n",
    "\n",
    "X = data[features]\n",
    "y = data['leader_ideology']\n",
    "\n",
    "\n",
    "selected_cols = ['IMF_based_exchange_rate','Per_capita_GNI', 'agriculture_and_hunting_fishing_isic', 'construction_isic', 'Exports_of_goods_and_services', 'Gross_capital_formation', 'Imports_of_goods_and_services', 'mining_manifacturing_isic', 'transport_storage_communication_isic', 'wholesale_trade_restaurant_hotel_isic', 'gross_national_income_GNI', 'GDP', 'military_expenditure', 'Urban_population', 'Rural_population']\n",
    "\n",
    "# Apply log transform\n",
    "df_log = data.copy()\n",
    "\n",
    "df_log[selected_cols] = np.log1p(df_log[selected_cols])  # or np.log1p() if values may be zero\n",
    "\n",
    "columns_to_work_with = [\n",
    "    'Per_capita_GNI',\n",
    "    'agriculture_and_hunting_fishing_isic',\n",
    "    'construction_isic',\n",
    "    'Imports_of_goods_and_services',\n",
    "    'mining_manifacturing_isic',\n",
    "    'transport_storage_communication_isic',\n",
    "    'GDP',\n",
    "    'Urban_population',\n",
    "    'leader_ideology',\n",
    "    'democracy',\n",
    "    'military_expenditure'\n",
    "]\n",
    "df_log = df_log[columns_to_work_with]"
   ]
  },
  {
   "cell_type": "markdown",
   "id": "7c11ba88-5100-47af-9806-eaa2b0c6045d",
   "metadata": {},
   "source": [
    "\n",
    "## 5. Building Predictive Models\n",
    "### 5.1 Linear Models\n",
    "\n",
    "*   log\\_population (size of country),\n",
    "    \n",
    "*   log\\_percap\\_gni (economic development level),\n",
    "    \n",
    "*   GDP shares of government consumption, investment, agriculture, exports, and imports,\n",
    "    \n",
    "*   military_spending.\n",
    "\n",
    "\n",
    "We'll select features and target variable to predict political ideology:"
   ]
  },
  {
   "cell_type": "code",
   "execution_count": null,
   "id": "98d24a5e-3d19-46c4-a4a9-3076ec0d3cdd",
   "metadata": {},
   "outputs": [],
   "source": [
    "# Encode target variable REVISION\n",
    "#le = LabelEncoder()\n",
    "#y_encoded = le.fit_transform(y)\n"
   ]
  },
  {
   "cell_type": "code",
   "execution_count": null,
   "id": "6028697b-09a9-44fc-a3d3-bb10444d4e76",
   "metadata": {},
   "outputs": [],
   "source": [
    "# Standardize features REVISION\n",
    "#scaler = StandardScaler()\n",
    "#X_scaled = scaler.fit_transform(X)"
   ]
  },
  {
   "cell_type": "code",
   "execution_count": 15,
   "id": "c51e616f-3e03-4117-9334-2ed8d6acaa6b",
   "metadata": {},
   "outputs": [
    {
     "name": "stdout",
     "output_type": "stream",
     "text": [
      "0       13.995515\n",
      "1       14.039069\n",
      "2       14.046952\n",
      "3       14.054697\n",
      "4       14.062257\n",
      "          ...    \n",
      "2949    15.366326\n",
      "2950    15.378926\n",
      "2951    15.392931\n",
      "2952    15.408597\n",
      "2953    15.426184\n",
      "Name: Urban_population, Length: 2907, dtype: float64\n"
     ]
    },
    {
     "data": {
      "text/html": [
       "<div>\n",
       "<style scoped>\n",
       "    .dataframe tbody tr th:only-of-type {\n",
       "        vertical-align: middle;\n",
       "    }\n",
       "\n",
       "    .dataframe tbody tr th {\n",
       "        vertical-align: top;\n",
       "    }\n",
       "\n",
       "    .dataframe thead th {\n",
       "        text-align: right;\n",
       "    }\n",
       "</style>\n",
       "<table border=\"1\" class=\"dataframe\">\n",
       "  <thead>\n",
       "    <tr style=\"text-align: right;\">\n",
       "      <th></th>\n",
       "      <th>Unnamed: 0</th>\n",
       "      <th>Year</th>\n",
       "      <th>IMF_based_exchange_rate</th>\n",
       "      <th>Population</th>\n",
       "      <th>Per_capita_GNI</th>\n",
       "      <th>agriculture_and_hunting_fishing_isic</th>\n",
       "      <th>Changes_in_inventories</th>\n",
       "      <th>construction_isic</th>\n",
       "      <th>Exports_of_goods_and_services</th>\n",
       "      <th>Gross_capital_formation</th>\n",
       "      <th>Imports_of_goods_and_services</th>\n",
       "      <th>mining_manifacturing_isic</th>\n",
       "      <th>transport_storage_communication_isic</th>\n",
       "      <th>wholesale_trade_restaurant_hotel_isic</th>\n",
       "      <th>gross_national_income_GNI</th>\n",
       "      <th>GDP</th>\n",
       "      <th>military_expenditure</th>\n",
       "      <th>Urban_population</th>\n",
       "      <th>Rural_population</th>\n",
       "    </tr>\n",
       "  </thead>\n",
       "  <tbody>\n",
       "    <tr>\n",
       "      <th>count</th>\n",
       "      <td>2907.000000</td>\n",
       "      <td>2907.000000</td>\n",
       "      <td>2.907000e+03</td>\n",
       "      <td>2.907000e+03</td>\n",
       "      <td>2907.000000</td>\n",
       "      <td>2907.000000</td>\n",
       "      <td>2.907000e+03</td>\n",
       "      <td>2907.000000</td>\n",
       "      <td>2907.000000</td>\n",
       "      <td>2906.000000</td>\n",
       "      <td>2907.000000</td>\n",
       "      <td>2907.000000</td>\n",
       "      <td>2907.000000</td>\n",
       "      <td>2907.000000</td>\n",
       "      <td>2907.000000</td>\n",
       "      <td>2907.000000</td>\n",
       "      <td>2907.000000</td>\n",
       "      <td>2850.000000</td>\n",
       "      <td>2850.000000</td>\n",
       "    </tr>\n",
       "    <tr>\n",
       "      <th>mean</th>\n",
       "      <td>1475.927761</td>\n",
       "      <td>2005.417613</td>\n",
       "      <td>2.873732e+00</td>\n",
       "      <td>4.878521e+07</td>\n",
       "      <td>8.305029</td>\n",
       "      <td>21.884341</td>\n",
       "      <td>2.745778e+09</td>\n",
       "      <td>21.596581</td>\n",
       "      <td>23.456575</td>\n",
       "      <td>23.112808</td>\n",
       "      <td>23.611901</td>\n",
       "      <td>23.013356</td>\n",
       "      <td>22.053152</td>\n",
       "      <td>22.616685</td>\n",
       "      <td>24.598248</td>\n",
       "      <td>24.622855</td>\n",
       "      <td>0.978020</td>\n",
       "      <td>15.625173</td>\n",
       "      <td>15.100129</td>\n",
       "    </tr>\n",
       "    <tr>\n",
       "      <th>std</th>\n",
       "      <td>856.864902</td>\n",
       "      <td>8.776788</td>\n",
       "      <td>2.402169e+00</td>\n",
       "      <td>1.616460e+08</td>\n",
       "      <td>1.590030</td>\n",
       "      <td>1.760369</td>\n",
       "      <td>1.320264e+10</td>\n",
       "      <td>2.288962</td>\n",
       "      <td>2.205941</td>\n",
       "      <td>2.214052</td>\n",
       "      <td>2.017409</td>\n",
       "      <td>2.233749</td>\n",
       "      <td>2.256232</td>\n",
       "      <td>2.166506</td>\n",
       "      <td>2.146490</td>\n",
       "      <td>2.146125</td>\n",
       "      <td>0.398946</td>\n",
       "      <td>1.575860</td>\n",
       "      <td>2.321773</td>\n",
       "    </tr>\n",
       "    <tr>\n",
       "      <th>min</th>\n",
       "      <td>1.000000</td>\n",
       "      <td>1990.000000</td>\n",
       "      <td>2.990000e-08</td>\n",
       "      <td>3.653920e+05</td>\n",
       "      <td>4.543295</td>\n",
       "      <td>16.373707</td>\n",
       "      <td>-1.510000e+11</td>\n",
       "      <td>14.000905</td>\n",
       "      <td>17.266548</td>\n",
       "      <td>16.630189</td>\n",
       "      <td>17.922623</td>\n",
       "      <td>17.056585</td>\n",
       "      <td>16.297405</td>\n",
       "      <td>16.711084</td>\n",
       "      <td>18.838543</td>\n",
       "      <td>18.922174</td>\n",
       "      <td>0.016171</td>\n",
       "      <td>12.271977</td>\n",
       "      <td>0.000000</td>\n",
       "    </tr>\n",
       "    <tr>\n",
       "      <th>25%</th>\n",
       "      <td>730.500000</td>\n",
       "      <td>1998.000000</td>\n",
       "      <td>6.931472e-01</td>\n",
       "      <td>4.516300e+06</td>\n",
       "      <td>7.032624</td>\n",
       "      <td>20.746148</td>\n",
       "      <td>1.471190e+07</td>\n",
       "      <td>19.912635</td>\n",
       "      <td>21.898618</td>\n",
       "      <td>21.514193</td>\n",
       "      <td>22.113980</td>\n",
       "      <td>21.284411</td>\n",
       "      <td>20.381235</td>\n",
       "      <td>21.037944</td>\n",
       "      <td>22.982382</td>\n",
       "      <td>23.025552</td>\n",
       "      <td>0.718779</td>\n",
       "      <td>14.552580</td>\n",
       "      <td>14.054043</td>\n",
       "    </tr>\n",
       "    <tr>\n",
       "      <th>50%</th>\n",
       "      <td>1473.000000</td>\n",
       "      <td>2006.000000</td>\n",
       "      <td>2.009514e+00</td>\n",
       "      <td>1.045616e+07</td>\n",
       "      <td>8.252967</td>\n",
       "      <td>21.856542</td>\n",
       "      <td>2.915697e+08</td>\n",
       "      <td>21.451879</td>\n",
       "      <td>23.314762</td>\n",
       "      <td>22.930062</td>\n",
       "      <td>23.377696</td>\n",
       "      <td>22.872636</td>\n",
       "      <td>21.958474</td>\n",
       "      <td>22.390494</td>\n",
       "      <td>24.377617</td>\n",
       "      <td>24.415274</td>\n",
       "      <td>0.922722</td>\n",
       "      <td>15.390023</td>\n",
       "      <td>15.225273</td>\n",
       "    </tr>\n",
       "    <tr>\n",
       "      <th>75%</th>\n",
       "      <td>2220.500000</td>\n",
       "      <td>2013.000000</td>\n",
       "      <td>4.630512e+00</td>\n",
       "      <td>2.957408e+07</td>\n",
       "      <td>9.673414</td>\n",
       "      <td>23.004842</td>\n",
       "      <td>1.512241e+09</td>\n",
       "      <td>23.228185</td>\n",
       "      <td>25.135875</td>\n",
       "      <td>24.713918</td>\n",
       "      <td>25.124935</td>\n",
       "      <td>24.683323</td>\n",
       "      <td>23.704854</td>\n",
       "      <td>24.175114</td>\n",
       "      <td>26.189212</td>\n",
       "      <td>26.203905</td>\n",
       "      <td>1.208371</td>\n",
       "      <td>16.635494</td>\n",
       "      <td>16.298282</td>\n",
       "    </tr>\n",
       "    <tr>\n",
       "      <th>max</th>\n",
       "      <td>2954.000000</td>\n",
       "      <td>2020.000000</td>\n",
       "      <td>9.587626e+00</td>\n",
       "      <td>1.424930e+09</td>\n",
       "      <td>11.552050</td>\n",
       "      <td>27.796536</td>\n",
       "      <td>2.110000e+11</td>\n",
       "      <td>27.679811</td>\n",
       "      <td>28.631653</td>\n",
       "      <td>29.482621</td>\n",
       "      <td>28.772054</td>\n",
       "      <td>29.146148</td>\n",
       "      <td>28.441951</td>\n",
       "      <td>28.768854</td>\n",
       "      <td>30.712931</td>\n",
       "      <td>30.694412</td>\n",
       "      <td>3.902321</td>\n",
       "      <td>20.580331</td>\n",
       "      <td>20.631961</td>\n",
       "    </tr>\n",
       "  </tbody>\n",
       "</table>\n",
       "</div>"
      ],
      "text/plain": [
       "        Unnamed: 0         Year  IMF_based_exchange_rate    Population  \\\n",
       "count  2907.000000  2907.000000             2.907000e+03  2.907000e+03   \n",
       "mean   1475.927761  2005.417613             2.873732e+00  4.878521e+07   \n",
       "std     856.864902     8.776788             2.402169e+00  1.616460e+08   \n",
       "min       1.000000  1990.000000             2.990000e-08  3.653920e+05   \n",
       "25%     730.500000  1998.000000             6.931472e-01  4.516300e+06   \n",
       "50%    1473.000000  2006.000000             2.009514e+00  1.045616e+07   \n",
       "75%    2220.500000  2013.000000             4.630512e+00  2.957408e+07   \n",
       "max    2954.000000  2020.000000             9.587626e+00  1.424930e+09   \n",
       "\n",
       "       Per_capita_GNI  agriculture_and_hunting_fishing_isic  \\\n",
       "count     2907.000000                           2907.000000   \n",
       "mean         8.305029                             21.884341   \n",
       "std          1.590030                              1.760369   \n",
       "min          4.543295                             16.373707   \n",
       "25%          7.032624                             20.746148   \n",
       "50%          8.252967                             21.856542   \n",
       "75%          9.673414                             23.004842   \n",
       "max         11.552050                             27.796536   \n",
       "\n",
       "       Changes_in_inventories  construction_isic  \\\n",
       "count            2.907000e+03        2907.000000   \n",
       "mean             2.745778e+09          21.596581   \n",
       "std              1.320264e+10           2.288962   \n",
       "min             -1.510000e+11          14.000905   \n",
       "25%              1.471190e+07          19.912635   \n",
       "50%              2.915697e+08          21.451879   \n",
       "75%              1.512241e+09          23.228185   \n",
       "max              2.110000e+11          27.679811   \n",
       "\n",
       "       Exports_of_goods_and_services  Gross_capital_formation  \\\n",
       "count                    2907.000000              2906.000000   \n",
       "mean                       23.456575                23.112808   \n",
       "std                         2.205941                 2.214052   \n",
       "min                        17.266548                16.630189   \n",
       "25%                        21.898618                21.514193   \n",
       "50%                        23.314762                22.930062   \n",
       "75%                        25.135875                24.713918   \n",
       "max                        28.631653                29.482621   \n",
       "\n",
       "       Imports_of_goods_and_services  mining_manifacturing_isic  \\\n",
       "count                    2907.000000                2907.000000   \n",
       "mean                       23.611901                  23.013356   \n",
       "std                         2.017409                   2.233749   \n",
       "min                        17.922623                  17.056585   \n",
       "25%                        22.113980                  21.284411   \n",
       "50%                        23.377696                  22.872636   \n",
       "75%                        25.124935                  24.683323   \n",
       "max                        28.772054                  29.146148   \n",
       "\n",
       "       transport_storage_communication_isic  \\\n",
       "count                           2907.000000   \n",
       "mean                              22.053152   \n",
       "std                                2.256232   \n",
       "min                               16.297405   \n",
       "25%                               20.381235   \n",
       "50%                               21.958474   \n",
       "75%                               23.704854   \n",
       "max                               28.441951   \n",
       "\n",
       "       wholesale_trade_restaurant_hotel_isic  gross_national_income_GNI  \\\n",
       "count                            2907.000000                2907.000000   \n",
       "mean                               22.616685                  24.598248   \n",
       "std                                 2.166506                   2.146490   \n",
       "min                                16.711084                  18.838543   \n",
       "25%                                21.037944                  22.982382   \n",
       "50%                                22.390494                  24.377617   \n",
       "75%                                24.175114                  26.189212   \n",
       "max                                28.768854                  30.712931   \n",
       "\n",
       "               GDP  military_expenditure  Urban_population  Rural_population  \n",
       "count  2907.000000           2907.000000       2850.000000       2850.000000  \n",
       "mean     24.622855              0.978020         15.625173         15.100129  \n",
       "std       2.146125              0.398946          1.575860          2.321773  \n",
       "min      18.922174              0.016171         12.271977          0.000000  \n",
       "25%      23.025552              0.718779         14.552580         14.054043  \n",
       "50%      24.415274              0.922722         15.390023         15.225273  \n",
       "75%      26.203905              1.208371         16.635494         16.298282  \n",
       "max      30.694412              3.902321         20.580331         20.631961  "
      ]
     },
     "execution_count": 15,
     "metadata": {},
     "output_type": "execute_result"
    }
   ],
   "source": [
    "#print(merged.columns)\n",
    "df_log['leader_ideology'] = df_log['leader_ideology'].astype('category')\n",
    "print(df_log['Urban_population'] )\n",
    "df_log.describe()"
   ]
  },
  {
   "cell_type": "code",
   "execution_count": null,
   "id": "7eccdd7b-f3ae-424b-9507-906aac4b9d6a",
   "metadata": {},
   "outputs": [],
   "source": [
    "#scaler = StandardScaler()\n",
    "#X_scaled = scaler.fit_transform(X)"
   ]
  },
  {
   "cell_type": "markdown",
   "id": "c0560e3a-dfc0-4b33-827e-605f1f907d48",
   "metadata": {},
   "source": [
    "Now, split our data:"
   ]
  },
  {
   "cell_type": "code",
   "execution_count": null,
   "id": "bfe301f3-b1a9-4ccc-9297-7977172de43c",
   "metadata": {},
   "outputs": [],
   "source": [
    "#X_train, X_test, y_train, y_test = train_test_split(X_scaled, y, test_size=0.2, random_state=42)\n"
   ]
  },
  {
   "cell_type": "markdown",
   "id": "6b22af29",
   "metadata": {},
   "source": [
    "### 5.2 GLM Models\n",
    "\n",
    "\n",
    "\n"
   ]
  },
  {
   "cell_type": "markdown",
   "id": "750f1954",
   "metadata": {},
   "source": [
    "### 5.2.1 Binomial Model\n",
    "\n",
    "Response variable - democracy, start with all features as predictors"
   ]
  },
  {
   "cell_type": "code",
   "execution_count": 43,
   "id": "346a09e4",
   "metadata": {},
   "outputs": [],
   "source": [
    "from statsmodels.formula.api import glm\n",
    "\n",
    "import statsmodels.api as sm"
   ]
  },
  {
   "cell_type": "code",
   "execution_count": 53,
   "id": "78fc0062",
   "metadata": {},
   "outputs": [],
   "source": [
    "df_log_new = df_log.copy().dropna()"
   ]
  },
  {
   "cell_type": "markdown",
   "id": "054c9c21",
   "metadata": {},
   "source": [
    "***MLP Classifier must deal with the dataset of numeric types.   \n",
    "So let's update new dataframe, where for real value of string(object) type, we'll set a numeric equivalent for all the columns we use***"
   ]
  },
  {
   "cell_type": "code",
   "execution_count": 54,
   "id": "e31acf4e",
   "metadata": {
    "scrolled": true
   },
   "outputs": [
    {
     "data": {
      "text/plain": [
       "Per_capita_GNI                          float64\n",
       "agriculture_and_hunting_fishing_isic    float64\n",
       "construction_isic                       float64\n",
       "Imports_of_goods_and_services           float64\n",
       "mining_manifacturing_isic               float64\n",
       "transport_storage_communication_isic    float64\n",
       "GDP                                     float64\n",
       "Urban_population                        float64\n",
       "leader_ideology                          object\n",
       "democracy                                object\n",
       "military_expenditure                    float64\n",
       "dtype: object"
      ]
     },
     "execution_count": 54,
     "metadata": {},
     "output_type": "execute_result"
    }
   ],
   "source": [
    "df_log.dtypes"
   ]
  },
  {
   "cell_type": "code",
   "execution_count": 55,
   "id": "13f8f51b",
   "metadata": {},
   "outputs": [],
   "source": [
    "column_mapper_dict = {}\n",
    "for column in df_log.columns:\n",
    "    if df_log[column].dtype == 'object':\n",
    "        unique_vals = df_log[column].unique()\n",
    "        column_mapper_dict[column] = {val: i for i, val in enumerate(unique_vals)}\n",
    "        \n",
    "        df_log_new[column] = df_log_new[column].map(column_mapper_dict[column])\n",
    "        "
   ]
  },
  {
   "cell_type": "code",
   "execution_count": 56,
   "id": "94d2fb2f",
   "metadata": {},
   "outputs": [
    {
     "data": {
      "text/plain": [
       "{'leader_ideology': {'leftist': 0, 'rightist': 1, 'centrist': 2},\n",
       " 'democracy': {'no': 0, 'yes': 1, nan: 2}}"
      ]
     },
     "execution_count": 56,
     "metadata": {},
     "output_type": "execute_result"
    }
   ],
   "source": [
    "column_mapper_dict"
   ]
  },
  {
   "cell_type": "code",
   "execution_count": 57,
   "id": "88dca413",
   "metadata": {},
   "outputs": [
    {
     "data": {
      "text/html": [
       "<div>\n",
       "<style scoped>\n",
       "    .dataframe tbody tr th:only-of-type {\n",
       "        vertical-align: middle;\n",
       "    }\n",
       "\n",
       "    .dataframe tbody tr th {\n",
       "        vertical-align: top;\n",
       "    }\n",
       "\n",
       "    .dataframe thead th {\n",
       "        text-align: right;\n",
       "    }\n",
       "</style>\n",
       "<table border=\"1\" class=\"dataframe\">\n",
       "  <thead>\n",
       "    <tr style=\"text-align: right;\">\n",
       "      <th></th>\n",
       "      <th>Per_capita_GNI</th>\n",
       "      <th>agriculture_and_hunting_fishing_isic</th>\n",
       "      <th>construction_isic</th>\n",
       "      <th>Imports_of_goods_and_services</th>\n",
       "      <th>mining_manifacturing_isic</th>\n",
       "      <th>transport_storage_communication_isic</th>\n",
       "      <th>GDP</th>\n",
       "      <th>Urban_population</th>\n",
       "      <th>leader_ideology</th>\n",
       "      <th>democracy</th>\n",
       "      <th>military_expenditure</th>\n",
       "    </tr>\n",
       "  </thead>\n",
       "  <tbody>\n",
       "    <tr>\n",
       "      <th>0</th>\n",
       "      <td>6.480045</td>\n",
       "      <td>20.611193</td>\n",
       "      <td>19.143951</td>\n",
       "      <td>19.995287</td>\n",
       "      <td>20.576130</td>\n",
       "      <td>17.211963</td>\n",
       "      <td>21.486756</td>\n",
       "      <td>13.995515</td>\n",
       "      <td>0</td>\n",
       "      <td>0</td>\n",
       "      <td>1.929824</td>\n",
       "    </tr>\n",
       "    <tr>\n",
       "      <th>1</th>\n",
       "      <td>6.908755</td>\n",
       "      <td>20.875997</td>\n",
       "      <td>19.243972</td>\n",
       "      <td>20.870420</td>\n",
       "      <td>19.608819</td>\n",
       "      <td>18.554771</td>\n",
       "      <td>21.886305</td>\n",
       "      <td>14.039069</td>\n",
       "      <td>1</td>\n",
       "      <td>0</td>\n",
       "      <td>0.866693</td>\n",
       "    </tr>\n",
       "    <tr>\n",
       "      <th>2</th>\n",
       "      <td>6.551080</td>\n",
       "      <td>20.369060</td>\n",
       "      <td>19.089738</td>\n",
       "      <td>20.580941</td>\n",
       "      <td>19.151297</td>\n",
       "      <td>18.441577</td>\n",
       "      <td>21.522867</td>\n",
       "      <td>14.046952</td>\n",
       "      <td>0</td>\n",
       "      <td>0</td>\n",
       "      <td>0.825526</td>\n",
       "    </tr>\n",
       "    <tr>\n",
       "      <th>3</th>\n",
       "      <td>6.703188</td>\n",
       "      <td>20.415971</td>\n",
       "      <td>19.024759</td>\n",
       "      <td>20.749794</td>\n",
       "      <td>19.158498</td>\n",
       "      <td>18.780213</td>\n",
       "      <td>21.661267</td>\n",
       "      <td>14.054697</td>\n",
       "      <td>0</td>\n",
       "      <td>0</td>\n",
       "      <td>0.805691</td>\n",
       "    </tr>\n",
       "    <tr>\n",
       "      <th>4</th>\n",
       "      <td>6.936343</td>\n",
       "      <td>20.542967</td>\n",
       "      <td>19.437968</td>\n",
       "      <td>20.908941</td>\n",
       "      <td>19.361398</td>\n",
       "      <td>19.107368</td>\n",
       "      <td>21.893166</td>\n",
       "      <td>14.062257</td>\n",
       "      <td>0</td>\n",
       "      <td>0</td>\n",
       "      <td>0.810579</td>\n",
       "    </tr>\n",
       "  </tbody>\n",
       "</table>\n",
       "</div>"
      ],
      "text/plain": [
       "   Per_capita_GNI  agriculture_and_hunting_fishing_isic  construction_isic  \\\n",
       "0        6.480045                             20.611193          19.143951   \n",
       "1        6.908755                             20.875997          19.243972   \n",
       "2        6.551080                             20.369060          19.089738   \n",
       "3        6.703188                             20.415971          19.024759   \n",
       "4        6.936343                             20.542967          19.437968   \n",
       "\n",
       "   Imports_of_goods_and_services  mining_manifacturing_isic  \\\n",
       "0                      19.995287                  20.576130   \n",
       "1                      20.870420                  19.608819   \n",
       "2                      20.580941                  19.151297   \n",
       "3                      20.749794                  19.158498   \n",
       "4                      20.908941                  19.361398   \n",
       "\n",
       "   transport_storage_communication_isic        GDP  Urban_population  \\\n",
       "0                             17.211963  21.486756         13.995515   \n",
       "1                             18.554771  21.886305         14.039069   \n",
       "2                             18.441577  21.522867         14.046952   \n",
       "3                             18.780213  21.661267         14.054697   \n",
       "4                             19.107368  21.893166         14.062257   \n",
       "\n",
       "   leader_ideology  democracy  military_expenditure  \n",
       "0                0          0              1.929824  \n",
       "1                1          0              0.866693  \n",
       "2                0          0              0.825526  \n",
       "3                0          0              0.805691  \n",
       "4                0          0              0.810579  "
      ]
     },
     "execution_count": 57,
     "metadata": {},
     "output_type": "execute_result"
    }
   ],
   "source": [
    "df_log_new.head()"
   ]
  },
  {
   "cell_type": "code",
   "execution_count": 58,
   "id": "f41afb96",
   "metadata": {},
   "outputs": [],
   "source": [
    "X_train, X_test, Y_train, Y_test = train_test_split(\n",
    "    df_log_new.drop('democracy',axis=1), df_log_new['democracy'],\n",
    "    test_size=0.2, random_state=1\n",
    ")"
   ]
  },
  {
   "cell_type": "code",
   "execution_count": 59,
   "id": "279372a2",
   "metadata": {},
   "outputs": [],
   "source": [
    "predictors = '+'.join([col for col in X_train.columns])\n",
    "\n",
    "binomial_gam = glm(\n",
    "    f'democracy ~ {predictors}', \n",
    "    data=df_log_new.loc[X_train.index],\n",
    "    family=sm.families.Binomial(),\n",
    ")\n"
   ]
  },
  {
   "cell_type": "code",
   "execution_count": 60,
   "id": "06b0ca80",
   "metadata": {},
   "outputs": [],
   "source": [
    "binomial_gam_res = binomial_gam.fit()"
   ]
  },
  {
   "cell_type": "code",
   "execution_count": 61,
   "id": "119ffce3",
   "metadata": {
    "scrolled": false
   },
   "outputs": [
    {
     "data": {
      "text/html": [
       "<table class=\"simpletable\">\n",
       "<caption>Generalized Linear Model Regression Results</caption>\n",
       "<tr>\n",
       "  <th>Dep. Variable:</th>       <td>democracy</td>    <th>  No. Observations:  </th>  <td>  2280</td> \n",
       "</tr>\n",
       "<tr>\n",
       "  <th>Model:</th>                  <td>GLM</td>       <th>  Df Residuals:      </th>  <td>  2269</td> \n",
       "</tr>\n",
       "<tr>\n",
       "  <th>Model Family:</th>        <td>Binomial</td>     <th>  Df Model:          </th>  <td>    10</td> \n",
       "</tr>\n",
       "<tr>\n",
       "  <th>Link Function:</th>         <td>Logit</td>      <th>  Scale:             </th> <td>  1.0000</td>\n",
       "</tr>\n",
       "<tr>\n",
       "  <th>Method:</th>                <td>IRLS</td>       <th>  Log-Likelihood:    </th> <td> -989.19</td>\n",
       "</tr>\n",
       "<tr>\n",
       "  <th>Date:</th>            <td>Thu, 15 May 2025</td> <th>  Deviance:          </th> <td>  1978.4</td>\n",
       "</tr>\n",
       "<tr>\n",
       "  <th>Time:</th>                <td>23:38:56</td>     <th>  Pearson chi2:      </th> <td>1.88e+03</td>\n",
       "</tr>\n",
       "<tr>\n",
       "  <th>No. Iterations:</th>          <td>6</td>        <th>  Pseudo R-squ. (CS):</th>  <td>0.3283</td> \n",
       "</tr>\n",
       "<tr>\n",
       "  <th>Covariance Type:</th>     <td>nonrobust</td>    <th>                     </th>     <td> </td>   \n",
       "</tr>\n",
       "</table>\n",
       "<table class=\"simpletable\">\n",
       "<tr>\n",
       "                    <td></td>                      <th>coef</th>     <th>std err</th>      <th>z</th>      <th>P>|z|</th>  <th>[0.025</th>    <th>0.975]</th>  \n",
       "</tr>\n",
       "<tr>\n",
       "  <th>Intercept</th>                            <td>   -6.5182</td> <td>    1.297</td> <td>   -5.025</td> <td> 0.000</td> <td>   -9.061</td> <td>   -3.976</td>\n",
       "</tr>\n",
       "<tr>\n",
       "  <th>Per_capita_GNI</th>                       <td>    1.9445</td> <td>    0.157</td> <td>   12.375</td> <td> 0.000</td> <td>    1.637</td> <td>    2.253</td>\n",
       "</tr>\n",
       "<tr>\n",
       "  <th>agriculture_and_hunting_fishing_isic</th> <td>    0.0892</td> <td>    0.101</td> <td>    0.888</td> <td> 0.375</td> <td>   -0.108</td> <td>    0.286</td>\n",
       "</tr>\n",
       "<tr>\n",
       "  <th>construction_isic</th>                    <td>   -0.1283</td> <td>    0.117</td> <td>   -1.100</td> <td> 0.271</td> <td>   -0.357</td> <td>    0.100</td>\n",
       "</tr>\n",
       "<tr>\n",
       "  <th>Imports_of_goods_and_services</th>        <td>   -0.6537</td> <td>    0.146</td> <td>   -4.474</td> <td> 0.000</td> <td>   -0.940</td> <td>   -0.367</td>\n",
       "</tr>\n",
       "<tr>\n",
       "  <th>mining_manifacturing_isic</th>            <td>   -1.1628</td> <td>    0.163</td> <td>   -7.144</td> <td> 0.000</td> <td>   -1.482</td> <td>   -0.844</td>\n",
       "</tr>\n",
       "<tr>\n",
       "  <th>transport_storage_communication_isic</th> <td>   -0.6782</td> <td>    0.173</td> <td>   -3.916</td> <td> 0.000</td> <td>   -1.018</td> <td>   -0.339</td>\n",
       "</tr>\n",
       "<tr>\n",
       "  <th>GDP</th>                                  <td>    1.5392</td> <td>    0.357</td> <td>    4.306</td> <td> 0.000</td> <td>    0.839</td> <td>    2.240</td>\n",
       "</tr>\n",
       "<tr>\n",
       "  <th>Urban_population</th>                     <td>    0.8279</td> <td>    0.172</td> <td>    4.818</td> <td> 0.000</td> <td>    0.491</td> <td>    1.165</td>\n",
       "</tr>\n",
       "<tr>\n",
       "  <th>leader_ideology</th>                      <td>    0.1510</td> <td>    0.088</td> <td>    1.708</td> <td> 0.088</td> <td>   -0.022</td> <td>    0.324</td>\n",
       "</tr>\n",
       "<tr>\n",
       "  <th>military_expenditure</th>                 <td>   -1.4829</td> <td>    0.151</td> <td>   -9.801</td> <td> 0.000</td> <td>   -1.779</td> <td>   -1.186</td>\n",
       "</tr>\n",
       "</table>"
      ],
      "text/plain": [
       "<class 'statsmodels.iolib.summary.Summary'>\n",
       "\"\"\"\n",
       "                 Generalized Linear Model Regression Results                  \n",
       "==============================================================================\n",
       "Dep. Variable:              democracy   No. Observations:                 2280\n",
       "Model:                            GLM   Df Residuals:                     2269\n",
       "Model Family:                Binomial   Df Model:                           10\n",
       "Link Function:                  Logit   Scale:                          1.0000\n",
       "Method:                          IRLS   Log-Likelihood:                -989.19\n",
       "Date:                Thu, 15 May 2025   Deviance:                       1978.4\n",
       "Time:                        23:38:56   Pearson chi2:                 1.88e+03\n",
       "No. Iterations:                     6   Pseudo R-squ. (CS):             0.3283\n",
       "Covariance Type:            nonrobust                                         \n",
       "========================================================================================================\n",
       "                                           coef    std err          z      P>|z|      [0.025      0.975]\n",
       "--------------------------------------------------------------------------------------------------------\n",
       "Intercept                               -6.5182      1.297     -5.025      0.000      -9.061      -3.976\n",
       "Per_capita_GNI                           1.9445      0.157     12.375      0.000       1.637       2.253\n",
       "agriculture_and_hunting_fishing_isic     0.0892      0.101      0.888      0.375      -0.108       0.286\n",
       "construction_isic                       -0.1283      0.117     -1.100      0.271      -0.357       0.100\n",
       "Imports_of_goods_and_services           -0.6537      0.146     -4.474      0.000      -0.940      -0.367\n",
       "mining_manifacturing_isic               -1.1628      0.163     -7.144      0.000      -1.482      -0.844\n",
       "transport_storage_communication_isic    -0.6782      0.173     -3.916      0.000      -1.018      -0.339\n",
       "GDP                                      1.5392      0.357      4.306      0.000       0.839       2.240\n",
       "Urban_population                         0.8279      0.172      4.818      0.000       0.491       1.165\n",
       "leader_ideology                          0.1510      0.088      1.708      0.088      -0.022       0.324\n",
       "military_expenditure                    -1.4829      0.151     -9.801      0.000      -1.779      -1.186\n",
       "========================================================================================================\n",
       "\"\"\""
      ]
     },
     "execution_count": 61,
     "metadata": {},
     "output_type": "execute_result"
    }
   ],
   "source": [
    "binomial_gam_res.summary()"
   ]
  },
  {
   "cell_type": "code",
   "execution_count": 62,
   "id": "2ecb5d9f",
   "metadata": {},
   "outputs": [],
   "source": [
    "y_pred_probes = binomial_gam_res.predict(X_test)"
   ]
  },
  {
   "cell_type": "code",
   "execution_count": 63,
   "id": "c89cdc88",
   "metadata": {},
   "outputs": [],
   "source": [
    "y_pred = (y_pred_probes >= 0.5).astype(int)"
   ]
  },
  {
   "cell_type": "code",
   "execution_count": 66,
   "id": "009c8156",
   "metadata": {},
   "outputs": [],
   "source": [
    "cm = confusion_matrix(Y_test, y_pred)"
   ]
  },
  {
   "cell_type": "code",
   "execution_count": 67,
   "id": "9131c22e",
   "metadata": {},
   "outputs": [
    {
     "data": {
      "image/png": "[encoded data removed]",
      "text/plain": [
       "<Figure size 800x600 with 2 Axes>"
      ]
     },
     "metadata": {},
     "output_type": "display_data"
    }
   ],
   "source": [
    "plt.figure(figsize=(8, 6))\n",
    "sns.heatmap(cm, annot=True, fmt=\"d\", cmap=\"Blues\")\n",
    "plt.title(\"Confusion Matrix\")\n",
    "plt.xlabel(\"Predicted\")\n",
    "plt.ylabel(\"True\")\n",
    "plt.show()"
   ]
  },
  {
   "cell_type": "code",
   "execution_count": 68,
   "id": "26b9c4c6",
   "metadata": {},
   "outputs": [
    {
     "data": {
      "text/plain": [
       "0.756140350877193"
      ]
     },
     "execution_count": 68,
     "metadata": {},
     "output_type": "execute_result"
    }
   ],
   "source": [
    "accuracy_score(Y_test, y_pred)"
   ]
  },
  {
   "cell_type": "code",
   "execution_count": 69,
   "id": "76171aa4",
   "metadata": {},
   "outputs": [
    {
     "name": "stdout",
     "output_type": "stream",
     "text": [
      "              precision    recall  f1-score   support\n",
      "\n",
      "           0       0.70      0.55      0.61       203\n",
      "           1       0.78      0.87      0.82       367\n",
      "\n",
      "    accuracy                           0.76       570\n",
      "   macro avg       0.74      0.71      0.72       570\n",
      "weighted avg       0.75      0.76      0.75       570\n",
      "\n"
     ]
    }
   ],
   "source": [
    "print(classification_report(Y_test, y_pred))\n"
   ]
  },
  {
   "cell_type": "code",
   "execution_count": null,
   "id": "037b28a3",
   "metadata": {},
   "outputs": [],
   "source": []
  },
  {
   "cell_type": "markdown",
   "id": "791c9297",
   "metadata": {},
   "source": [
    "***Let's drop couple of features which are not significant, and few which can potentially cause collinearity, \n",
    "and build an updated model***"
   ]
  },
  {
   "cell_type": "code",
   "execution_count": 70,
   "id": "f96c8afb",
   "metadata": {},
   "outputs": [],
   "source": [
    "non_significant_columns_per_p = ['agriculture_and_hunting_fishing_isic', 'construction_isic', 'leader_ideology']\n",
    "X_reduce_train = X_train.drop(columns=non_significant_columns_per_p)\n",
    "predictors = '+'.join([col for col in X_reduce_train.columns])\n",
    "\n",
    "binomial_gam = glm(\n",
    "    f'democracy ~ {predictors}', \n",
    "    data=df_log_new.drop(columns=non_significant_columns_per_p).loc[X_reduce_train.index],\n",
    "    family=sm.families.Binomial(),\n",
    ")\n"
   ]
  },
  {
   "cell_type": "code",
   "execution_count": 71,
   "id": "7ca53993",
   "metadata": {},
   "outputs": [],
   "source": [
    "binomial_gam_res = binomial_gam.fit()"
   ]
  },
  {
   "cell_type": "code",
   "execution_count": 72,
   "id": "b4884444",
   "metadata": {
    "scrolled": false
   },
   "outputs": [
    {
     "data": {
      "text/html": [
       "<table class=\"simpletable\">\n",
       "<caption>Generalized Linear Model Regression Results</caption>\n",
       "<tr>\n",
       "  <th>Dep. Variable:</th>       <td>democracy</td>    <th>  No. Observations:  </th>  <td>  2280</td> \n",
       "</tr>\n",
       "<tr>\n",
       "  <th>Model:</th>                  <td>GLM</td>       <th>  Df Residuals:      </th>  <td>  2272</td> \n",
       "</tr>\n",
       "<tr>\n",
       "  <th>Model Family:</th>        <td>Binomial</td>     <th>  Df Model:          </th>  <td>     7</td> \n",
       "</tr>\n",
       "<tr>\n",
       "  <th>Link Function:</th>         <td>Logit</td>      <th>  Scale:             </th> <td>  1.0000</td>\n",
       "</tr>\n",
       "<tr>\n",
       "  <th>Method:</th>                <td>IRLS</td>       <th>  Log-Likelihood:    </th> <td> -991.66</td>\n",
       "</tr>\n",
       "<tr>\n",
       "  <th>Date:</th>            <td>Thu, 15 May 2025</td> <th>  Deviance:          </th> <td>  1983.3</td>\n",
       "</tr>\n",
       "<tr>\n",
       "  <th>Time:</th>                <td>23:41:54</td>     <th>  Pearson chi2:      </th> <td>1.89e+03</td>\n",
       "</tr>\n",
       "<tr>\n",
       "  <th>No. Iterations:</th>          <td>6</td>        <th>  Pseudo R-squ. (CS):</th>  <td>0.3268</td> \n",
       "</tr>\n",
       "<tr>\n",
       "  <th>Covariance Type:</th>     <td>nonrobust</td>    <th>                     </th>     <td> </td>   \n",
       "</tr>\n",
       "</table>\n",
       "<table class=\"simpletable\">\n",
       "<tr>\n",
       "                    <td></td>                      <th>coef</th>     <th>std err</th>      <th>z</th>      <th>P>|z|</th>  <th>[0.025</th>    <th>0.975]</th>  \n",
       "</tr>\n",
       "<tr>\n",
       "  <th>Intercept</th>                            <td>   -5.8244</td> <td>    1.172</td> <td>   -4.970</td> <td> 0.000</td> <td>   -8.121</td> <td>   -3.527</td>\n",
       "</tr>\n",
       "<tr>\n",
       "  <th>Per_capita_GNI</th>                       <td>    1.8867</td> <td>    0.142</td> <td>   13.301</td> <td> 0.000</td> <td>    1.609</td> <td>    2.165</td>\n",
       "</tr>\n",
       "<tr>\n",
       "  <th>Imports_of_goods_and_services</th>        <td>   -0.7186</td> <td>    0.141</td> <td>   -5.108</td> <td> 0.000</td> <td>   -0.994</td> <td>   -0.443</td>\n",
       "</tr>\n",
       "<tr>\n",
       "  <th>mining_manifacturing_isic</th>            <td>   -1.1665</td> <td>    0.161</td> <td>   -7.260</td> <td> 0.000</td> <td>   -1.481</td> <td>   -0.852</td>\n",
       "</tr>\n",
       "<tr>\n",
       "  <th>transport_storage_communication_isic</th> <td>   -0.7012</td> <td>    0.171</td> <td>   -4.102</td> <td> 0.000</td> <td>   -1.036</td> <td>   -0.366</td>\n",
       "</tr>\n",
       "<tr>\n",
       "  <th>GDP</th>                                  <td>    1.5883</td> <td>    0.284</td> <td>    5.590</td> <td> 0.000</td> <td>    1.031</td> <td>    2.145</td>\n",
       "</tr>\n",
       "<tr>\n",
       "  <th>Urban_population</th>                     <td>    0.8286</td> <td>    0.171</td> <td>    4.842</td> <td> 0.000</td> <td>    0.493</td> <td>    1.164</td>\n",
       "</tr>\n",
       "<tr>\n",
       "  <th>military_expenditure</th>                 <td>   -1.5206</td> <td>    0.147</td> <td>  -10.344</td> <td> 0.000</td> <td>   -1.809</td> <td>   -1.232</td>\n",
       "</tr>\n",
       "</table>"
      ],
      "text/plain": [
       "<class 'statsmodels.iolib.summary.Summary'>\n",
       "\"\"\"\n",
       "                 Generalized Linear Model Regression Results                  \n",
       "==============================================================================\n",
       "Dep. Variable:              democracy   No. Observations:                 2280\n",
       "Model:                            GLM   Df Residuals:                     2272\n",
       "Model Family:                Binomial   Df Model:                            7\n",
       "Link Function:                  Logit   Scale:                          1.0000\n",
       "Method:                          IRLS   Log-Likelihood:                -991.66\n",
       "Date:                Thu, 15 May 2025   Deviance:                       1983.3\n",
       "Time:                        23:41:54   Pearson chi2:                 1.89e+03\n",
       "No. Iterations:                     6   Pseudo R-squ. (CS):             0.3268\n",
       "Covariance Type:            nonrobust                                         \n",
       "========================================================================================================\n",
       "                                           coef    std err          z      P>|z|      [0.025      0.975]\n",
       "--------------------------------------------------------------------------------------------------------\n",
       "Intercept                               -5.8244      1.172     -4.970      0.000      -8.121      -3.527\n",
       "Per_capita_GNI                           1.8867      0.142     13.301      0.000       1.609       2.165\n",
       "Imports_of_goods_and_services           -0.7186      0.141     -5.108      0.000      -0.994      -0.443\n",
       "mining_manifacturing_isic               -1.1665      0.161     -7.260      0.000      -1.481      -0.852\n",
       "transport_storage_communication_isic    -0.7012      0.171     -4.102      0.000      -1.036      -0.366\n",
       "GDP                                      1.5883      0.284      5.590      0.000       1.031       2.145\n",
       "Urban_population                         0.8286      0.171      4.842      0.000       0.493       1.164\n",
       "military_expenditure                    -1.5206      0.147    -10.344      0.000      -1.809      -1.232\n",
       "========================================================================================================\n",
       "\"\"\""
      ]
     },
     "execution_count": 72,
     "metadata": {},
     "output_type": "execute_result"
    }
   ],
   "source": [
    "binomial_gam_res.summary()"
   ]
  },
  {
   "cell_type": "code",
   "execution_count": 73,
   "id": "23bba387",
   "metadata": {},
   "outputs": [
    {
     "data": {
      "text/plain": [
       "6.597377678943481"
      ]
     },
     "execution_count": 73,
     "metadata": {},
     "output_type": "execute_result"
    }
   ],
   "source": [
    "np.exp(binomial_gam_res.params['Per_capita_GNI'])"
   ]
  },
  {
   "cell_type": "code",
   "execution_count": 74,
   "id": "6949c22e",
   "metadata": {},
   "outputs": [
    {
     "data": {
      "text/plain": [
       "0.2185888723285314"
      ]
     },
     "execution_count": 74,
     "metadata": {},
     "output_type": "execute_result"
    }
   ],
   "source": [
    "np.exp(binomial_gam_res.params['military_expenditure'])"
   ]
  },
  {
   "cell_type": "markdown",
   "id": "ae4562da",
   "metadata": {},
   "source": [
    "***\n",
    "***Model interpretation***  \n",
    "\n",
    "Statistically-wise, we see a better features chosen, as all of them are significant now.  \n",
    "Pseudo R-squ. (CS) parameter tells us, that almost 33% of the variation are explained by the model.   \n",
    "We can interpret coefficients of our model.  \n",
    "For binary / binomial models to interpret coefficients properly, \n",
    "we need to get an exponential form of each coefficient, because by default, the activation function is logarithmic, \n",
    "and we need to take inverse of it.  \n",
    "\n",
    "Let's start from the largest coefficient - Per_capita_GNI feature.  \n",
    "A one-unit increase in this feature, leads to 6.6 times increase in an odds ratio for entry to be democratic,  \n",
    "once other features are constant.  \n",
    "An opposite example - military_expenditure feature.  \n",
    "A one-unit increase leads to 21% decrease in an odds ratio for entry to be democratic.  \n",
    "Here we can stop interpreting coefficients, as it will be the same explanation.  \n",
    "To have a general look on features coefficients and there affect, I'll build a related plot below\n",
    "***"
   ]
  },
  {
   "cell_type": "code",
   "execution_count": 75,
   "id": "3558fe8d",
   "metadata": {},
   "outputs": [
    {
     "data": {
      "image/png": "[encoded data removed]",
      "text/plain": [
       "<Figure size 800x600 with 1 Axes>"
      ]
     },
     "metadata": {},
     "output_type": "display_data"
    }
   ],
   "source": [
    "import numpy as np\n",
    "import pandas as pd\n",
    "import matplotlib.pyplot as plt\n",
    "\n",
    "# Get coefficients and confidence intervals\n",
    "coefs = binomial_gam_res.params.drop(['Intercept'])\n",
    "conf = binomial_gam_res.conf_int().drop(['Intercept'])\n",
    "conf.columns = ['2.5%', '97.5%']\n",
    "\n",
    "# Compute odds ratios and CI\n",
    "odds_ratios = np.exp(coefs)\n",
    "conf_exp = np.exp(conf)\n",
    "\n",
    "# Create a DataFrame\n",
    "or_df = pd.DataFrame({\n",
    "    'Odds Ratio': odds_ratios,\n",
    "    '2.5%': conf_exp['2.5%'],\n",
    "    '97.5%': conf_exp['97.5%']\n",
    "}).sort_values(by='Odds Ratio', ascending=False)\n",
    "\n",
    "# Plot\n",
    "plt.figure(figsize=(8, 6))\n",
    "plt.errorbar(or_df['Odds Ratio'], or_df.index, \n",
    "             xerr=[or_df['Odds Ratio'] - or_df['2.5%'], \n",
    "                   or_df['97.5%'] - or_df['Odds Ratio']],\n",
    "             fmt='o', color='black', ecolor='gray', capsize=5)\n",
    "plt.axvline(1, color='red', linestyle='--')\n",
    "plt.xlabel(\"Odds Ratio (log scale)\")\n",
    "plt.xscale('log')\n",
    "plt.title(\"Odds Ratios with 95% CI\")\n",
    "plt.tight_layout()\n",
    "plt.show()"
   ]
  },
  {
   "cell_type": "markdown",
   "id": "270e5c32",
   "metadata": {},
   "source": [
    "***Evaluate model performance***"
   ]
  },
  {
   "cell_type": "code",
   "execution_count": 78,
   "id": "3ba46697",
   "metadata": {},
   "outputs": [],
   "source": [
    "y_pred_probes = binomial_gam_res.predict(X_test.drop(columns=non_significant_columns_per_p))\n"
   ]
  },
  {
   "cell_type": "code",
   "execution_count": 79,
   "id": "c4bb9325",
   "metadata": {},
   "outputs": [],
   "source": [
    "y_pred = (y_pred_probes >= 0.5).astype(int)"
   ]
  },
  {
   "cell_type": "code",
   "execution_count": 80,
   "id": "b4fdc503",
   "metadata": {},
   "outputs": [],
   "source": [
    "cm = confusion_matrix(Y_test, y_pred)"
   ]
  },
  {
   "cell_type": "code",
   "execution_count": 81,
   "id": "a0461d86",
   "metadata": {},
   "outputs": [
    {
     "data": {
      "image/png": "[encoded data removed]",
      "text/plain": [
       "<Figure size 800x600 with 2 Axes>"
      ]
     },
     "metadata": {},
     "output_type": "display_data"
    }
   ],
   "source": [
    "plt.figure(figsize=(8, 6))\n",
    "sns.heatmap(cm, annot=True, fmt=\"d\", cmap=\"Blues\")\n",
    "plt.title(\"Confusion Matrix\")\n",
    "plt.xlabel(\"Predicted\")\n",
    "plt.ylabel(\"True\")\n",
    "plt.show()"
   ]
  },
  {
   "cell_type": "code",
   "execution_count": 82,
   "id": "2e634041",
   "metadata": {},
   "outputs": [
    {
     "data": {
      "text/plain": [
       "0.7508771929824561"
      ]
     },
     "execution_count": 82,
     "metadata": {},
     "output_type": "execute_result"
    }
   ],
   "source": [
    "accuracy_score(Y_test, y_pred)"
   ]
  },
  {
   "cell_type": "code",
   "execution_count": 83,
   "id": "0ba444e1",
   "metadata": {},
   "outputs": [
    {
     "name": "stdout",
     "output_type": "stream",
     "text": [
      "              precision    recall  f1-score   support\n",
      "\n",
      "           0       0.69      0.54      0.61       203\n",
      "           1       0.77      0.87      0.82       367\n",
      "\n",
      "    accuracy                           0.75       570\n",
      "   macro avg       0.73      0.70      0.71       570\n",
      "weighted avg       0.74      0.75      0.74       570\n",
      "\n"
     ]
    }
   ],
   "source": [
    "print(classification_report(Y_test, y_pred))\n"
   ]
  },
  {
   "cell_type": "code",
   "execution_count": 97,
   "id": "df548a39",
   "metadata": {},
   "outputs": [],
   "source": [
    "fpr, tpr, thresholds = roc_curve(Y_test, y_pred)\n",
    "auci = auc(fpr, tpr)"
   ]
  },
  {
   "cell_type": "code",
   "execution_count": 98,
   "id": "9aedc250",
   "metadata": {},
   "outputs": [
    {
     "data": {
      "text/plain": [
       "<sklearn.metrics._plot.roc_curve.RocCurveDisplay at 0x7fbd4fdef2d0>"
      ]
     },
     "execution_count": 98,
     "metadata": {},
     "output_type": "execute_result"
    },
    {
     "data": {
      "image/png": "[encoded data removed]",
      "text/plain": [
       "<Figure size 640x480 with 1 Axes>"
      ]
     },
     "metadata": {},
     "output_type": "display_data"
    }
   ],
   "source": [
    "display = RocCurveDisplay(fpr=fpr, tpr=tpr, roc_auc = auci, estimator_name = 'Binomial')\n",
    "display.plot()"
   ]
  },
  {
   "cell_type": "markdown",
   "id": "5e4c4406",
   "metadata": {},
   "source": [
    "***From the above results, we have confirmed that the model has quite good performance.  \n",
    "In term of simplicity of the model and clear understanding of how features influence the response variable, \n",
    "it might be a good choice to use, if there's not such a goal to have as high accuracy as possible***"
   ]
  },
  {
   "cell_type": "markdown",
   "id": "7f4016c2-1005-487e-8d32-7c097ffc8941",
   "metadata": {},
   "source": [
    "### 5.4 Neural Networks\n",
    "\n",
    "**Neural Network**:"
   ]
  },
  {
   "cell_type": "code",
   "execution_count": 99,
   "id": "a438d594",
   "metadata": {},
   "outputs": [],
   "source": [
    "import pandas as pd\n",
    "import matplotlib.pyplot as plt\n",
    "\n",
    "from sklearn.neural_network import MLPRegressor, MLPClassifier\n",
    "from sklearn.model_selection import train_test_split\n",
    "from sklearn.preprocessing import OneHotEncoder, StandardScaler\n",
    "from sklearn.pipeline import Pipeline\n",
    "from sklearn.metrics import mean_squared_error\n",
    "\n",
    "from math import sqrt\n",
    "\n",
    "from sklearn.model_selection import GridSearchCV\n",
    "\n"
   ]
  },
  {
   "cell_type": "markdown",
   "id": "1006e904",
   "metadata": {},
   "source": [
    "#### Classification (multi-label)\n",
    "##### Predict leader_ideology from the features we have"
   ]
  },
  {
   "cell_type": "code",
   "execution_count": 100,
   "id": "c3ff8715",
   "metadata": {},
   "outputs": [],
   "source": [
    "X_train, X_test, Y_train, Y_test = train_test_split(\n",
    "    df_log_new.drop('leader_ideology',axis=1), df_log_new['leader_ideology'],\n",
    "    test_size=0.2, random_state=1\n",
    ")"
   ]
  },
  {
   "cell_type": "markdown",
   "id": "bed230c7",
   "metadata": {},
   "source": [
    "***MLP is very sensitive to feature scaling, so makes sense to scale features in the same way.  \n",
    "We'll use a common approach in this case - StandardScaler.  \n",
    "The only one problem which can be here is the case of outliers. They have a very strong negative effect on scaling***"
   ]
  },
  {
   "cell_type": "markdown",
   "id": "18d97c75",
   "metadata": {},
   "source": [
    "***For the MLP Classifier or Regressor we need to provide some parameters.  \n",
    "solver - Algorithm for optimization. LBFGS works pretty well with small datasets, so should be good fit in our case.  \n",
    "alpha - regularization parameter. Helps to fight overfitting and bias.  \n",
    "Increasing alpha -> smaller weights -> simpler decision boundaries (might improve overfitting effect).  \n",
    "Decreasing alpha -> bigger weights -> more complex dicison boundaries (might fix high bias -> underfitting)***"
   ]
  },
  {
   "cell_type": "markdown",
   "id": "f6b20fd4",
   "metadata": {},
   "source": [
    "***Now, lets build MLP Classifier with different hidden_layer_num parameter from 10 to 1500 with step 100, \n",
    "and check, will there be a benefit of using higher hidden_layer_num***"
   ]
  },
  {
   "cell_type": "code",
   "execution_count": 104,
   "id": "04daec49",
   "metadata": {},
   "outputs": [],
   "source": [
    "hidden_layer_num_accuracy_dict = {}\n",
    "for hidden_layer_num in range(10,1500,100):\n",
    "    pipeline = Pipeline(steps=[\n",
    "    (\"preprocessor\", StandardScaler()),\n",
    "    (\"classifier\", MLPClassifier(\n",
    "        solver='lbfgs', \n",
    "        alpha=1e-5,\n",
    "        hidden_layer_sizes=(hidden_layer_num,), \n",
    "        random_state=1\n",
    "        )\n",
    "        )\n",
    "    ])\n",
    "\n",
    "    pipeline.fit(X_train, Y_train)\n",
    "\n",
    "    y_pred = pipeline.predict(X_test)\n",
    "    accuracy = accuracy_score(Y_test, y_pred)\n",
    "    \n",
    "    hidden_layer_num_accuracy_dict[hidden_layer_num] = accuracy"
   ]
  },
  {
   "cell_type": "code",
   "execution_count": 105,
   "id": "851109de",
   "metadata": {},
   "outputs": [
    {
     "data": {
      "text/plain": [
       "[<matplotlib.lines.Line2D at 0x7fbd6f8ab0d0>]"
      ]
     },
     "execution_count": 105,
     "metadata": {},
     "output_type": "execute_result"
    },
    {
     "data": {
      "image/png": "[encoded data removed]",
      "text/plain": [
       "<Figure size 640x480 with 1 Axes>"
      ]
     },
     "metadata": {},
     "output_type": "display_data"
    }
   ],
   "source": [
    "plt.plot(hidden_layer_num_accuracy_dict.keys(), hidden_layer_num_accuracy_dict.values())"
   ]
  },
  {
   "cell_type": "markdown",
   "id": "825ca8b0",
   "metadata": {},
   "source": [
    "***According to the above plot, we can say, that there's no any clear sign, \n",
    "that higher hidden_layer_num is better in our concrete case after reaching num_layers=200***"
   ]
  },
  {
   "cell_type": "markdown",
   "id": "330f87e3",
   "metadata": {},
   "source": [
    "***Next, let's build an MLPClassifier model with some basic configuration, \n",
    "train it on a subset of data, predict results and calculate accuracy and other model evaluation criterias***"
   ]
  },
  {
   "cell_type": "code",
   "execution_count": 109,
   "id": "6cc97123",
   "metadata": {},
   "outputs": [
    {
     "name": "stdout",
     "output_type": "stream",
     "text": [
      "Accuracy: 0.8175\n"
     ]
    }
   ],
   "source": [
    "pipeline = Pipeline(steps=[\n",
    "(\"preprocessor\", StandardScaler()),\n",
    "(\"classifier\", MLPClassifier(\n",
    "    solver='lbfgs', \n",
    "    alpha=1e-5,\n",
    "    hidden_layer_sizes=(200,), \n",
    "    random_state=1\n",
    "    )\n",
    "    )\n",
    "])\n",
    "\n",
    "pipeline.fit(X_train, Y_train)\n",
    "\n",
    "y_pred = pipeline.predict(X_test)\n",
    "\n",
    "print(f\"Accuracy: {accuracy_score(Y_test, y_pred):.4f}\")\n"
   ]
  },
  {
   "cell_type": "markdown",
   "id": "074ba2a8",
   "metadata": {},
   "source": [
    "***The Accuracy looks to be good***"
   ]
  },
  {
   "cell_type": "code",
   "execution_count": 110,
   "id": "a25fb289",
   "metadata": {},
   "outputs": [
    {
     "name": "stdout",
     "output_type": "stream",
     "text": [
      "              precision    recall  f1-score   support\n",
      "\n",
      "           0       0.83      0.84      0.84       255\n",
      "           1       0.83      0.82      0.82       253\n",
      "           2       0.73      0.69      0.71        62\n",
      "\n",
      "    accuracy                           0.82       570\n",
      "   macro avg       0.79      0.79      0.79       570\n",
      "weighted avg       0.82      0.82      0.82       570\n",
      "\n"
     ]
    }
   ],
   "source": [
    "print(classification_report(Y_test, y_pred))\n"
   ]
  },
  {
   "cell_type": "markdown",
   "id": "6f15d82b",
   "metadata": {},
   "source": [
    "***By checking classification report, the results look very good. Precision and recall have very high values***"
   ]
  },
  {
   "cell_type": "code",
   "execution_count": 111,
   "id": "1a687c98",
   "metadata": {},
   "outputs": [],
   "source": [
    "cm = confusion_matrix(y_pred, Y_test)"
   ]
  },
  {
   "cell_type": "code",
   "execution_count": 112,
   "id": "1a746ada",
   "metadata": {},
   "outputs": [
    {
     "data": {
      "text/plain": [
       "array([[215,  37,   7],\n",
       "       [ 32, 208,  12],\n",
       "       [  8,   8,  43]])"
      ]
     },
     "execution_count": 112,
     "metadata": {},
     "output_type": "execute_result"
    }
   ],
   "source": [
    "cm"
   ]
  },
  {
   "cell_type": "code",
   "execution_count": 113,
   "id": "1cbf0a0a",
   "metadata": {},
   "outputs": [],
   "source": [
    "import seaborn as sns"
   ]
  },
  {
   "cell_type": "code",
   "execution_count": 114,
   "id": "848b692f",
   "metadata": {},
   "outputs": [
    {
     "data": {
      "image/png": "[encoded data removed]",
      "text/plain": [
       "<Figure size 800x600 with 2 Axes>"
      ]
     },
     "metadata": {},
     "output_type": "display_data"
    }
   ],
   "source": [
    "plt.figure(figsize=(8, 6))\n",
    "sns.heatmap(cm, annot=True, fmt=\"d\", cmap=\"Blues\")\n",
    "plt.title(\"Confusion Matrix\")\n",
    "plt.xlabel(\"Predicted\")\n",
    "plt.ylabel(\"True\")\n",
    "plt.show()"
   ]
  },
  {
   "cell_type": "markdown",
   "id": "1916c09f",
   "metadata": {},
   "source": [
    "***We have a very high accuracy on predicting ideology from the features we include***"
   ]
  },
  {
   "cell_type": "markdown",
   "id": "d5caacc9",
   "metadata": {},
   "source": [
    "#### Classification (binary)\n",
    "##### Predict democracy from the features we have"
   ]
  },
  {
   "cell_type": "code",
   "execution_count": 115,
   "id": "113325cb",
   "metadata": {},
   "outputs": [],
   "source": [
    "X_train, X_test, Y_train, Y_test = train_test_split(\n",
    "    df_log_new.drop('democracy',axis=1), df_log_new['democracy'],\n",
    "    test_size=0.2, random_state=1\n",
    ")"
   ]
  },
  {
   "cell_type": "code",
   "execution_count": 118,
   "id": "e07a3b90",
   "metadata": {},
   "outputs": [],
   "source": [
    "pipeline = Pipeline(steps=[\n",
    "(\"preprocessor\", StandardScaler()),\n",
    "(\"regressor\", MLPClassifier(\n",
    "    solver='lbfgs', \n",
    "    alpha=1e-5,\n",
    "    hidden_layer_sizes=(200,), \n",
    "    random_state=1\n",
    "    )\n",
    "    )\n",
    "])\n",
    "\n",
    "pipeline.fit(X_train, Y_train)\n",
    "\n",
    "y_pred = pipeline.predict(X_test)"
   ]
  },
  {
   "cell_type": "code",
   "execution_count": 119,
   "id": "6d393fbf",
   "metadata": {},
   "outputs": [
    {
     "name": "stdout",
     "output_type": "stream",
     "text": [
      "Accuracy: 0.9246\n"
     ]
    }
   ],
   "source": [
    "print(f\"Accuracy: {accuracy_score(Y_test, y_pred):.4f}\")"
   ]
  },
  {
   "cell_type": "code",
   "execution_count": 120,
   "id": "352882d9",
   "metadata": {},
   "outputs": [],
   "source": [
    "cm = confusion_matrix(Y_test, y_pred)"
   ]
  },
  {
   "cell_type": "code",
   "execution_count": 121,
   "id": "eb281c90",
   "metadata": {
    "scrolled": false
   },
   "outputs": [
    {
     "data": {
      "image/png": "[encoded data removed]",
      "text/plain": [
       "<Figure size 800x600 with 2 Axes>"
      ]
     },
     "metadata": {},
     "output_type": "display_data"
    }
   ],
   "source": [
    "plt.figure(figsize=(8, 6))\n",
    "sns.heatmap(cm, annot=True, fmt=\"d\", cmap=\"Blues\")\n",
    "plt.title(\"Confusion Matrix\")\n",
    "plt.xlabel(\"Predicted\")\n",
    "plt.ylabel(\"True\")\n",
    "plt.show()"
   ]
  },
  {
   "cell_type": "code",
   "execution_count": 122,
   "id": "b4211f28",
   "metadata": {},
   "outputs": [
    {
     "name": "stdout",
     "output_type": "stream",
     "text": [
      "              precision    recall  f1-score   support\n",
      "\n",
      "           0       0.91      0.87      0.89       203\n",
      "           1       0.93      0.95      0.94       367\n",
      "\n",
      "    accuracy                           0.92       570\n",
      "   macro avg       0.92      0.91      0.92       570\n",
      "weighted avg       0.92      0.92      0.92       570\n",
      "\n"
     ]
    }
   ],
   "source": [
    "print(classification_report(Y_test, y_pred))\n"
   ]
  },
  {
   "cell_type": "code",
   "execution_count": 123,
   "id": "fba5a2fa",
   "metadata": {},
   "outputs": [
    {
     "data": {
      "text/plain": [
       "0.9127998281902256"
      ]
     },
     "execution_count": 123,
     "metadata": {},
     "output_type": "execute_result"
    }
   ],
   "source": [
    "roc_auc_score(Y_test, y_pred)"
   ]
  },
  {
   "cell_type": "code",
   "execution_count": 124,
   "id": "3d334680",
   "metadata": {},
   "outputs": [
    {
     "data": {
      "image/png": "[encoded data removed]",
      "text/plain": [
       "<Figure size 640x480 with 1 Axes>"
      ]
     },
     "metadata": {},
     "output_type": "display_data"
    }
   ],
   "source": [
    "from sklearn.metrics import roc_curve, auc, RocCurveDisplay\n",
    "fpr, tpr, threshold = roc_curve(Y_test, y_pred)\n",
    "roc_auc = auc(fpr, tpr)\n",
    "\n",
    "import matplotlib.pyplot as plt\n",
    "plt.title('Receiver Operating Characteristic')\n",
    "plt.plot(fpr, tpr, 'b', label = 'AUC = %0.2f' % roc_auc)\n",
    "plt.legend(loc = 'lower right')\n",
    "plt.plot([0, 1], [0, 1],'r--')\n",
    "plt.xlim([0, 1])\n",
    "plt.ylim([0, 1])\n",
    "plt.ylabel('True Positive Rate')\n",
    "plt.xlabel('False Positive Rate')\n",
    "plt.show()"
   ]
  },
  {
   "cell_type": "markdown",
   "id": "4ce04829",
   "metadata": {},
   "source": [
    "***By checking Accuracy, classification report, confusion matrix and ROC plot, we can come with a conclusion,\n",
    "that model actually performs quite well to predict the binomial feature - democracy***"
   ]
  },
  {
   "cell_type": "markdown",
   "id": "0e570e8f",
   "metadata": {},
   "source": [
    "#### Regression\n",
    "##### Predict military_expenditure from the features we have"
   ]
  },
  {
   "cell_type": "code",
   "execution_count": 125,
   "id": "5bcd7920",
   "metadata": {},
   "outputs": [],
   "source": [
    "X_train, X_test, Y_train, Y_test = train_test_split(\n",
    "    df_log_new.drop('military_expenditure',axis=1), df_log_new['military_expenditure'],\n",
    "    test_size=0.2, random_state=1\n",
    ")"
   ]
  },
  {
   "cell_type": "code",
   "execution_count": 126,
   "id": "6f98ff44",
   "metadata": {},
   "outputs": [],
   "source": [
    "pipeline = Pipeline(steps=[\n",
    "(\"preprocessor\", StandardScaler()),\n",
    "(\"regressor\", MLPRegressor(\n",
    "    solver='lbfgs', \n",
    "    alpha=1e-5,\n",
    "    hidden_layer_sizes=(200,), \n",
    "    random_state=1\n",
    "    )\n",
    "    )\n",
    "])\n",
    "\n",
    "pipeline.fit(X_train, Y_train)\n",
    "\n",
    "y_pred = pipeline.predict(X_test)"
   ]
  },
  {
   "cell_type": "code",
   "execution_count": 127,
   "id": "40a24bea",
   "metadata": {},
   "outputs": [
    {
     "data": {
      "text/plain": [
       "<matplotlib.legend.Legend at 0x7fbd4fd5c110>"
      ]
     },
     "execution_count": 127,
     "metadata": {},
     "output_type": "execute_result"
    },
    {
     "data": {
      "image/png": "[encoded data removed]",
      "text/plain": [
       "<Figure size 640x480 with 1 Axes>"
      ]
     },
     "metadata": {},
     "output_type": "display_data"
    }
   ],
   "source": [
    "plt.scatter(range(len(Y_test)), Y_test, color='red')\n",
    "plt.scatter(range(len(Y_test)), y_pred, color='blue')\n",
    "plt.legend(['Actual military_expenditure', 'Predicted military_expenditure'])"
   ]
  },
  {
   "cell_type": "markdown",
   "id": "5ae77c2c",
   "metadata": {},
   "source": [
    "***From the above scatterplot we see how close actual and predicted values are located to each other***"
   ]
  },
  {
   "cell_type": "code",
   "execution_count": 128,
   "id": "9b2b8bc4",
   "metadata": {},
   "outputs": [
    {
     "data": {
      "text/plain": [
       "<AxesSubplot:xlabel='military_expenditure', ylabel='Count'>"
      ]
     },
     "execution_count": 128,
     "metadata": {},
     "output_type": "execute_result"
    },
    {
     "data": {
      "image/png": "[encoded data removed]",
      "text/plain": [
       "<Figure size 640x480 with 1 Axes>"
      ]
     },
     "metadata": {},
     "output_type": "display_data"
    }
   ],
   "source": [
    "sns.histplot(y_pred - Y_test)"
   ]
  },
  {
   "cell_type": "markdown",
   "id": "0f06ed1f",
   "metadata": {},
   "source": [
    "***The residuals are almost normally distributed***"
   ]
  },
  {
   "cell_type": "code",
   "execution_count": 129,
   "id": "8a1ab7bc",
   "metadata": {},
   "outputs": [
    {
     "data": {
      "text/plain": [
       "0.22169242151361568"
      ]
     },
     "execution_count": 129,
     "metadata": {},
     "output_type": "execute_result"
    }
   ],
   "source": [
    "sqrt(mean_squared_error(Y_test, y_pred))"
   ]
  },
  {
   "cell_type": "code",
   "execution_count": 130,
   "id": "8823e425",
   "metadata": {},
   "outputs": [],
   "source": [
    "RMSE = sqrt(sum((y_pred - Y_test)**2)/Y_test.shape[0])"
   ]
  },
  {
   "cell_type": "code",
   "execution_count": 131,
   "id": "bf825e41",
   "metadata": {},
   "outputs": [
    {
     "name": "stdout",
     "output_type": "stream",
     "text": [
      "RMSE: 0.22169\n"
     ]
    }
   ],
   "source": [
    "print(f\"RMSE: {RMSE:.5f}\")\n"
   ]
  },
  {
   "cell_type": "code",
   "execution_count": 132,
   "id": "dfc3d827",
   "metadata": {},
   "outputs": [],
   "source": [
    "R2 = 1-sum((Y_test - y_pred)**2)/sum((Y_test - np.mean(Y_test))**2)"
   ]
  },
  {
   "cell_type": "code",
   "execution_count": 133,
   "id": "84d61fd1",
   "metadata": {},
   "outputs": [
    {
     "name": "stdout",
     "output_type": "stream",
     "text": [
      "R2: 0.65849\n"
     ]
    }
   ],
   "source": [
    "print(f\"R2: {R2:.5f}\")"
   ]
  },
  {
   "cell_type": "markdown",
   "id": "1a4632dd",
   "metadata": {},
   "source": [
    "***As a result, we have a low RMSE, and a relatively good R2 score, showing us that the model predicts acceptable, but we were expecting better results. Looks like this amount of predictors we've chosen is not enough*** "
   ]
  },
  {
   "cell_type": "markdown",
   "id": "4ec7943f",
   "metadata": {},
   "source": [
    "***Let's execute a Cross-Validation to check, can we find a better model***"
   ]
  },
  {
   "cell_type": "code",
   "execution_count": 135,
   "id": "f554c5a3",
   "metadata": {},
   "outputs": [],
   "source": [
    "param_list = {\n",
    "    \"hidden_layer_sizes\": [50,100],\n",
    "    \"activation\": [\"identity\", \"logistic\", \"tanh\", \"relu\"],\n",
    "    \"alpha\": [1e-5,1e-4],\n",
    "    \"solver\": [\"lbfgs\", \"sgd\", \"adam\"]\n",
    "}\n",
    "gridCV = GridSearchCV(estimator=MLPRegressor(), param_grid=param_list)"
   ]
  },
  {
   "cell_type": "code",
   "execution_count": 136,
   "id": "8b322b80",
   "metadata": {},
   "outputs": [
    {
     "data": {
      "text/plain": [
       "GridSearchCV(estimator=MLPRegressor(),\n",
       "             param_grid={'activation': ['identity', 'logistic', 'tanh', 'relu'],\n",
       "                         'alpha': [1e-05, 0.0001],\n",
       "                         'hidden_layer_sizes': [50, 100],\n",
       "                         'solver': ['lbfgs', 'sgd', 'adam']})"
      ]
     },
     "execution_count": 136,
     "metadata": {},
     "output_type": "execute_result"
    }
   ],
   "source": [
    "gridCV.fit(X_train, Y_train)"
   ]
  },
  {
   "cell_type": "code",
   "execution_count": 137,
   "id": "7003015a",
   "metadata": {},
   "outputs": [
    {
     "data": {
      "text/plain": [
       "MLPRegressor(activation='tanh', hidden_layer_sizes=100, solver='lbfgs')"
      ]
     },
     "execution_count": 137,
     "metadata": {},
     "output_type": "execute_result"
    }
   ],
   "source": [
    "gridCV.best_estimator_"
   ]
  },
  {
   "cell_type": "code",
   "execution_count": 138,
   "id": "67322d6f",
   "metadata": {},
   "outputs": [],
   "source": [
    "best_predict = gridCV.best_estimator_.predict(X_test)"
   ]
  },
  {
   "cell_type": "code",
   "execution_count": 139,
   "id": "f3edffaa",
   "metadata": {},
   "outputs": [
    {
     "data": {
      "text/plain": [
       "0.3325483843213629"
      ]
     },
     "execution_count": 139,
     "metadata": {},
     "output_type": "execute_result"
    }
   ],
   "source": [
    "sqrt(mean_squared_error(Y_test, best_predict))"
   ]
  },
  {
   "cell_type": "code",
   "execution_count": 142,
   "id": "75ee7a8a",
   "metadata": {},
   "outputs": [
    {
     "data": {
      "text/plain": [
       "0.658494593521417"
      ]
     },
     "execution_count": 142,
     "metadata": {},
     "output_type": "execute_result"
    }
   ],
   "source": [
    "r2_score(Y_test, y_pred)"
   ]
  },
  {
   "cell_type": "markdown",
   "id": "a3d4738a",
   "metadata": {},
   "source": [
    "***Based on the results, with the provided parameters, the best estimated model was a bit worse than our custom, standard one***"
   ]
  },
  {
   "cell_type": "code",
   "execution_count": null,
   "id": "42a06976",
   "metadata": {},
   "outputs": [],
   "source": []
  },
  {
   "cell_type": "code",
   "execution_count": null,
   "id": "51b8b181",
   "metadata": {},
   "outputs": [],
   "source": []
  },
  {
   "cell_type": "code",
   "execution_count": null,
   "id": "8e002865",
   "metadata": {},
   "outputs": [],
   "source": []
  },
  {
   "cell_type": "markdown",
   "id": "0c9b9b2f-4257-4321-bab5-a30dd67e70f1",
   "metadata": {},
   "source": [
    "## 6. Results\n",
    "We'll use cross-validation to check our models:"
   ]
  },
  {
   "cell_type": "markdown",
   "id": "3e9eedd5-71c5-4c7c-b789-35cb56a71a54",
   "metadata": {},
   "source": [
    "## 7. Reflection on Generative AI\n",
    "We use generative AI to help us write code, clarify methods, brainstorm, and interpret results. It was quick, but we faced several problems, especially when loading our data sets to draw conclusions. One of our data sets includes ideology information, and some generative AI tools are restricted and can't read such data. For example, **DeepSeek** didn't allow us to load the data set for conclusions. We tried **Perplexity AI**, but its conclusions were inaccurate. **Google Gemini** also failed because it couldn't load a CSV database.\n",
    "\n",
    "So, we mainly used **OpenAI** and **ChatGPT**. With the free version, it is not possible to have full capacity for drawing conclusions from databases, but it helps clarify methods, brainstorm ideas, and understand correlations. Our hypothesis is complex, involving a social experiment comparing economic indicators and military investment to predict political ideologies. Drawing conclusions from such experiments is hard, but it was an interesting experience.\n"
   ]
  },
  {
   "cell_type": "markdown",
   "id": "3f68444e-1055-41a0-bb67-7fe973981512",
   "metadata": {},
   "source": [
    "## 8. Conclusions\n",
    "From our analysis, we've seen that economic indicators can help predict political ideologies, but not perfectly. Features like GDP, income levels, and military spending were important predictors. This analysis gives useful insights into how economics might influence politics globally.\n"
   ]
  },
  {
   "cell_type": "code",
   "execution_count": null,
   "id": "e4186de0-3d55-4720-8d3a-81b77f400715",
   "metadata": {},
   "outputs": [],
   "source": []
  },
  {
   "cell_type": "code",
   "execution_count": null,
   "id": "2a3e961b-a13f-44f6-af9e-c0c8a8ed16e5",
   "metadata": {},
   "outputs": [],
   "source": []
  },
  {
   "cell_type": "code",
   "execution_count": null,
   "id": "103f3568-6448-498f-9307-558d6a097230",
   "metadata": {},
   "outputs": [],
   "source": []
  },
  {
   "cell_type": "code",
   "execution_count": null,
   "id": "e2e84538-9e9f-442d-af9a-1028867ce001",
   "metadata": {},
   "outputs": [],
   "source": []
  },
  {
   "cell_type": "code",
   "execution_count": null,
   "id": "825ad53f-30e1-4baf-b6fa-77567ed60288",
   "metadata": {},
   "outputs": [],
   "source": []
  },
  {
   "cell_type": "code",
   "execution_count": null,
   "id": "18adfba5-3d1d-4be3-81b0-74d1015e9459",
   "metadata": {},
   "outputs": [],
   "source": []
  },
  {
   "cell_type": "code",
   "execution_count": null,
   "id": "3218b53d-2c62-42a6-8e93-e047419acf2d",
   "metadata": {},
   "outputs": [],
   "source": []
  },
  {
   "cell_type": "code",
   "execution_count": null,
   "id": "91b0ac1d-bd46-455a-af07-8762898ffc51",
   "metadata": {},
   "outputs": [],
   "source": []
  },
  {
   "cell_type": "code",
   "execution_count": null,
   "id": "4f0bf2b9-0adc-4a99-9ea9-8edbe3f505dd",
   "metadata": {},
   "outputs": [],
   "source": []
  },
  {
   "cell_type": "code",
   "execution_count": null,
   "id": "9dc747c6-05b5-4bc9-aef6-00438ffa4ade",
   "metadata": {},
   "outputs": [],
   "source": []
  },
  {
   "cell_type": "code",
   "execution_count": null,
   "id": "cb844b1c-dcf3-43bb-a5c6-12b9484ef9fc",
   "metadata": {},
   "outputs": [],
   "source": []
  },
  {
   "cell_type": "code",
   "execution_count": null,
   "id": "b2a9b2b1-69aa-47d7-8218-b85720711a10",
   "metadata": {},
   "outputs": [],
   "source": []
  },
  {
   "cell_type": "code",
   "execution_count": null,
   "id": "346dd197-0d32-4285-9f75-43a29dd0c23a",
   "metadata": {},
   "outputs": [],
   "source": []
  },
  {
   "cell_type": "code",
   "execution_count": null,
   "id": "4557216d-9751-4ebb-b396-51485f2bb76b",
   "metadata": {},
   "outputs": [],
   "source": []
  },
  {
   "cell_type": "code",
   "execution_count": null,
   "id": "be63e146-8656-429f-bf43-3acf91c4ab58",
   "metadata": {},
   "outputs": [],
   "source": []
  },
  {
   "cell_type": "code",
   "execution_count": null,
   "id": "d62e86f0-b9ad-417d-9ca4-fa388de34c64",
   "metadata": {},
   "outputs": [],
   "source": []
  }
 ],
 "metadata": {
  "kernelspec": {
   "display_name": "Python 3 (ipykernel)",
   "language": "python",
   "name": "python3"
  },
  "language_info": {
   "codemirror_mode": {
    "name": "ipython",
    "version": 3
   },
   "file_extension": ".py",
   "mimetype": "text/x-python",
   "name": "python",
   "nbconvert_exporter": "python",
   "pygments_lexer": "ipython3",
   "version": "3.7.8"
  }
 },
 "nbformat": 4,
 "nbformat_minor": 5
}
